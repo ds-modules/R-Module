{
 "cells": [
  {
   "cell_type": "code",
   "execution_count": null,
   "metadata": {
    "Rmd_chunk_options": "setup, include=FALSE",
    "autoscroll": false,
    "collapsed": true
   },
   "outputs": [],
   "source": [
    "knitr::opts_chunk$set(echo = TRUE)"
   ]
  },
  {
   "cell_type": "markdown",
   "metadata": {},
   "source": [
    "\n",
    "# test commit\n",
    "\n",
    "#  About the UC Berkeley Social Sciences Data Laboratory (D-Lab)\n",
    "> D-Lab works with Berkeley faculty, research staff, and students to advance data-intensive social science and humanities research. Our goal at D-Lab is to provide practical training, staff support, resources, and space to enable you to use R for your own research applications. Our services cater to all skill levels and no programming, statistical, or computer science backgrounds are necessary. We offer these services in the form of workshops such as this one, one-to-one consulting, and working groups that cover a variety of topics and programming languages.\n",
    "> [D-Lab Workshop Calendar](http://dlab.berkeley.edu/calendar-node-field-date)\n",
    "> [D-Lab Consulting](http://dlab.berkeley.edu/consulting)\n",
    "> [D-lab Working Groups](http://dlab.berkeley.edu/working-groups)\n",
    "\n",
    "This is an R markdown (.Rmd) file. It allows you create documents of various kinds. Check out the [R Markdown Quick Tour](http://rmarkdown.rstudio.com/authoring_quick_tour.html). We will talk more about this in Part 4.\n",
    "\n",
    "# Front matter: Pre-introduction\n",
    "- Download R and RStudio:\n",
    "[download R here](https://cran.r-project.org/)\n",
    "[download RStudio here (RStudio Desktop Free version)](https://www.rstudio.com/products/rstudio/download/)\n",
    "\n",
    "- Visit [github.com/dlab-berkeley/R-Fundamentals](github.com/dlab-berkeley/R-Fundamentals) to download the course materials and save them to your desktop. You can either:\n",
    "\n",
    "1. click the green `download zip` button on the right hand side of the screen and click `download zip`, or\n",
    "\n",
    "2. `git clone https://github.com/dlab-berkeley/R-Fundamentals.git`\n",
    "\n",
    "# Workshop goals\n",
    "Part 1) Introduction to R, data types, data structures (emphasis on data frame)\n",
    "Part 2) Importing, subsetting, and merging data; type coercion, identifying missing data\n",
    "Part 3) Research design, data exploration, and statistical testing\n",
    "Part 4) For-loops and functions; Monte Carlo simulation, the \"birthday problem\"\n",
    "\n",
    "Part 1 learning objectives:\n",
    "1. Introduction: What is RStudio?, the basics, objects, global environment, packages, variable assignment, help\n",
    "2. Atomic data types: numeric, character, and logical\n",
    "3. Data type coercion\n",
    "4. Data structures: vector, list, matrix, data frame\n",
    "5. Saving your work\n",
    "6. Homework (optional)\n",
    "\n",
    "# Part 1 - Introduction\n",
    "### 1.1 The student\n",
    "This document is designed as a resource for **the student**. Use these documents if you choose to follow along or need to review.\n",
    "\n",
    "### 1.2 The instructor\n",
    "**The instructor** should emphasize that:\n",
    "1) R is free and open-source\n",
    "2) is great for data visualizaiton\n",
    "3) utilizes many analytical packages written for your field\n",
    "4) is ideal for open and reproducible research\n",
    "5) has strong community support and help and is used by virtually all academic disciplines, business, and industry.\n",
    "\n",
    "Then, the instructor will:\n",
    "1) provide a few motivating examples for the class\n",
    "2) describe how to apply R to social science research\n",
    "3) mention some of its pitfalls\n",
    "4) lead typing walkthoughs of these R commands\n",
    "\n",
    "Remember, our goal is to teach you computational programming with R. To learn statistics and math, check out UC Berkeley:\n",
    "[Department of Statistics](http://statistics.berkeley.edu/)\n",
    "[Data Science](http://data.berkeley.edu/)\n",
    "[School of Information](https://datascience.berkeley.edu/)\n",
    "[Interdepartmental Group in Biostatistics](https://www.stat.berkeley.edu/biostat/)\n",
    "[data8](http://data8.org/sp17/)\n",
    "[EECS](https://cs.berkeley.edu/)\n",
    "\n",
    "### 1.3 R and RStudio\n",
    "R is a programming language based on the \"S\" and \"S-PLUS\" language and graphics user interface (GUI) and is **functional**, **object oriented**, and **interpreted**. These themes make R highly extensible.\n",
    "\n",
    "However, we do not need to think of R in such complicated terms. In this workshop, we want to provide you with basic programming competencies so you can apply what you learn to your own research starting after Part 1!\n",
    "\n",
    "RStudio is an R GUI that permits the user to enter and save code and data pertaining to data preparation, exploration, plotting, and testing.\n",
    "\n",
    "### 1.4 The basics: Navigating RStudio\n",
    "Open RStudio! After opening a new script, you should see four window \"panes\".\n",
    "\n",
    "**Open a new script**\n",
    "`*PC:* Ctrl + Shift + N`\n",
    "`*MAC:* command + shift + N`\n",
    "\n",
    "**Top left pane**\n",
    "enter code in this savable `script` file.\n",
    "\n",
    "**Bottom left pane**\n",
    "code output is displayed here in the `console`.\n",
    "\n",
    "**Top right pane**\n",
    "contains the defined objects currently in the `global environment` and command `history`.\n",
    "\n",
    "**Bottom right pane**\n",
    "contains file import/export, plot view, package installations, and help\n",
    "\n",
    "**control + 1, 2, 3, 4**\n",
    "will keyboard shortcut between these panes.\n",
    "\n",
    "**To run a line of code**\n",
    "`*MAC*: command + return`\n",
    "`*PC*: Ctrl + r`\n",
    "\n",
    "**To clear your console**\n",
    "NOTE: this will not erase any saved data - it will simply make your console easier to read.\n",
    "`*MAC*: control + l`\n",
    "`*PC*: Ctrl + l`\n",
    "\n",
    "**Commenting your script file**\n",
    "Using a hashtag `#` will tell R that you do not want that particular line or block of code to be run. This is handy for making notes to yourself! You can even add hashtags after lines of runable code - on the same line!\n",
    "\n",
    "**The prompt**\n",
    "In the console, the prompt `>` looks like a greater than symbol. If your prompt begins to look like a `+` symbol by mistake, simply click in your console and press the `esc` key on your keyboard to return to `>`.\n",
    "R uses `+` when code is broken up across multiple lines and R is still expecting more code. A line of code does not usually stop until R finds an appropriate stop parameter, often a closed parenthesis `)`, closed bracket`]`, etc.\n",
    "\n",
    "**Saving your script**\n",
    "the name of your script file is in the tab at the top of your script window - the name defaults to `Untitled1`.\n",
    "\n",
    "If the name is red and followed by an asterisk `*` it means **your script is not saved**.\n",
    "\n",
    "**Save your script** by clicking \"File\" then \"Save\", or `command + s` (Mac) or `Ctrl + s` (PC).\n",
    "\n",
    "### 1.5 Package installation\n",
    "Many people write clever software that makes R smarter/better/faster/stronger. You can install packages by clicking the \"Packages\" tab in the bottom-right window, clicking install, and then searching for the package you wish to install.\n",
    "\n",
    "Packages can also be installed through the command line using `install.packages()`. The package name must be wrapped in quotation marks so that R knows it is searching for that particular package named `\"psych\"`, rather than previously defined data named psych:\n",
    "\n",
    "> It is generally good to keep RStudio and your packages up to date! Install the packages we will use in the workshop:\n",
    "\n"
   ]
  },
  {
   "cell_type": "code",
   "execution_count": null,
   "metadata": {
    "Rmd_chunk_options": "eval=FALSE",
    "autoscroll": false,
    "collapsed": true
   },
   "outputs": [],
   "source": [
    "install.packages(c(\"ggplot2\", \"knitr\", \"psych\", \"rmarkdown\", \"reshape2\", \"swirl\"), dependencies=TRUE)"
   ]
  },
  {
   "cell_type": "markdown",
   "metadata": {},
   "source": [
    "\n",
    "### 1.6 The `library` function\n",
    "Anytime you want to utilize a previously installed package, you must retreive it with `library()` when you begin a new R session. You do not need to reinstall packages each time you quit and restart your R session.\n",
    "\n"
   ]
  },
  {
   "cell_type": "code",
   "execution_count": null,
   "metadata": {
    "autoscroll": false,
    "collapsed": true
   },
   "outputs": [],
   "source": [
    "library(ggplot2)\n",
    "library(knitr)\n",
    "library(psych)\n",
    "library(rmarkdown)\n",
    "library(reshape2)\n",
    "library(swirl)\n",
    "# these packages can now be used in our RStudio session!"
   ]
  },
  {
   "cell_type": "markdown",
   "metadata": {},
   "source": [
    "\n",
    "### 1.7 Getting help\n",
    "The `?` symbol can be used to bring up the help pages:\n"
   ]
  },
  {
   "cell_type": "code",
   "execution_count": null,
   "metadata": {
    "autoscroll": false,
    "collapsed": true
   },
   "outputs": [],
   "source": [
    "?update.packages\n",
    "?read.csv\n",
    "?summary\n",
    "?describe\n",
    "?plot\n",
    "?ggplot\n",
    "?geometric.mean"
   ]
  },
  {
   "cell_type": "markdown",
   "metadata": {},
   "source": [
    "### 1.8 Variable assignment (`<-`)\n",
    "Variables are special data structures that allow you to enter data into R. Objects are stored in R's memory and can be retrieved (\"called\") when you need them.\n",
    "\n",
    "You define objects through `variable assignment` and they are stored in your `global environment`.\n",
    "\n",
    "You define objects through variable assignment using the **assignment operator** `<-`. This is a \"less than\" `<` symbol immediately followed by a hyphen `-`\n",
    "\n",
    "You will also see that `=` is frequently used in place of the assignment operator. This works the same, but we recommend using the assignment operator for consistency. Arguments and functions frequently use `=` and it is best to consistently assign your variables with `<-` until you understand the basics.\n",
    "\n",
    "**Object definition/variable assignment requires three pieces of information**:\n",
    "1) object_name\n",
    "2) `<-`\n",
    "3) definition/assignment\n",
    "\n",
    "Let's define an object named `numeric_oject` and define it as the number 4:\n"
   ]
  },
  {
   "cell_type": "code",
   "execution_count": null,
   "metadata": {
    "autoscroll": false,
    "collapsed": true
   },
   "outputs": [],
   "source": [
    "numeric_object <- 4\n",
    "ls()"
   ]
  },
  {
   "cell_type": "markdown",
   "metadata": {},
   "source": [
    "### 1.9 The R global environment\n",
    "We now have an object defined in our global environment!\n",
    "\n",
    "Objects in R are stored in your global environment. `ls()` will list previously defined objects in your environment.\n"
   ]
  },
  {
   "cell_type": "code",
   "execution_count": null,
   "metadata": {
    "autoscroll": false,
    "collapsed": true
   },
   "outputs": [],
   "source": [
    "ls() #There is currently nothing in our global environment"
   ]
  },
  {
   "cell_type": "markdown",
   "metadata": {},
   "source": [
    "\n",
    "\"Call\" (retrieve) the data contained wihtin the object by typing its name into your script and running the line of code\n"
   ]
  },
  {
   "cell_type": "code",
   "execution_count": null,
   "metadata": {
    "autoscroll": false,
    "collapsed": true
   },
   "outputs": [],
   "source": [
    "numeric_object # 4 is returned"
   ]
  },
  {
   "cell_type": "markdown",
   "metadata": {},
   "source": [
    "Let's try another example, this time using character data. Note that character data is **always** contained within quotation marks `\" \"`\n"
   ]
  },
  {
   "cell_type": "code",
   "execution_count": null,
   "metadata": {
    "autoscroll": false,
    "collapsed": true
   },
   "outputs": [],
   "source": [
    "welcome_object <- \"Welcome to the D-Lab\"\n",
    "ls()"
   ]
  },
  {
   "cell_type": "markdown",
   "metadata": {},
   "source": [
    "We now have two objects in our global environment. Call the data contained within the object by typing its name and running the line of code:\n"
   ]
  },
  {
   "cell_type": "code",
   "execution_count": null,
   "metadata": {
    "autoscroll": false,
    "collapsed": true
   },
   "outputs": [],
   "source": [
    "welcome_object"
   ]
  },
  {
   "cell_type": "markdown",
   "metadata": {},
   "source": [
    "\n",
    "### 1.10  Naming R variables\n",
    "Object names can be anything, but are always case sensitive. However, they cannot begin with a number and generally do not begin with symbols. However you choose to name your objects, be consistent and use brief descriptions of their contents.\n",
    "\n",
    "Names must be __**unique**__. If you resuse an old name, the old definition will be overwritten.\n",
    "\n",
    "Let's overwrite the object `welcome_object` from above.\n"
   ]
  },
  {
   "cell_type": "code",
   "execution_count": null,
   "metadata": {
    "autoscroll": false,
    "collapsed": true
   },
   "outputs": [],
   "source": [
    "welcome_object <- \"Welcome to Barrows Hall\""
   ]
  },
  {
   "cell_type": "markdown",
   "metadata": {},
   "source": [
    "See how the definition of `welcome_object` changed in your global environment window? However, there are still only two objects in your global environment.\n",
    "\n",
    "It also prints the new information when called:\n"
   ]
  },
  {
   "cell_type": "code",
   "execution_count": null,
   "metadata": {
    "autoscroll": false,
    "collapsed": true
   },
   "outputs": [],
   "source": [
    "welcome_object"
   ]
  },
  {
   "cell_type": "markdown",
   "metadata": {},
   "source": [
    "If we want to preserve the original object `welcome_object` we have to define a new object\n"
   ]
  },
  {
   "cell_type": "code",
   "execution_count": null,
   "metadata": {
    "autoscroll": false,
    "collapsed": true
   },
   "outputs": [],
   "source": [
    "welcome_object2 <- \"Welcome to the D-Lab in Barrows Hall\"\n",
    "ls()"
   ]
  },
  {
   "cell_type": "markdown",
   "metadata": {},
   "source": [
    "We now have three objects defined in our global environment! This third object contains new information and did not overwrite the old oblect:\n"
   ]
  },
  {
   "cell_type": "code",
   "execution_count": null,
   "metadata": {
    "autoscroll": false,
    "collapsed": true
   },
   "outputs": [],
   "source": [
    "welcome_object2"
   ]
  },
  {
   "cell_type": "markdown",
   "metadata": {},
   "source": [
    "\n",
    "### 1.11  Variable classes (`class`)\n",
    "Each variable in R has a `class` that summarizes the type of the data stored within the object. We will talk more about data types below.\n"
   ]
  },
  {
   "cell_type": "code",
   "execution_count": null,
   "metadata": {
    "autoscroll": false,
    "collapsed": true
   },
   "outputs": [],
   "source": [
    "class(numeric_object)\n",
    "class(welcome_object)\n",
    "class(welcome_object2)"
   ]
  },
  {
   "cell_type": "markdown",
   "metadata": {},
   "source": [
    "\n",
    "### 1.12  Removing variables (`rm`)\n",
    "We remove individual variables from our environment with `rm()`. For example, to remove `numeric_object`, we type:\n"
   ]
  },
  {
   "cell_type": "code",
   "execution_count": null,
   "metadata": {
    "autoscroll": false,
    "collapsed": true
   },
   "outputs": [],
   "source": [
    "rm(numeric_object)\n",
    "ls()"
   ]
  },
  {
   "cell_type": "markdown",
   "metadata": {},
   "source": [
    "See how `numeric_object` disappeared from our global environment?\n",
    "\n",
    "We can also wipe the entire environment with `rm(list = ls())`\n"
   ]
  },
  {
   "cell_type": "code",
   "execution_count": null,
   "metadata": {
    "autoscroll": false,
    "collapsed": true
   },
   "outputs": [],
   "source": [
    "rm(list=ls())\n",
    "ls()"
   ]
  },
  {
   "cell_type": "markdown",
   "metadata": {},
   "source": [
    "Now, all objects are gone from our global environment.\n",
    "\n",
    "# **Challenge 1**\n",
    "1. What do the following commands do?\n"
   ]
  },
  {
   "cell_type": "code",
   "execution_count": null,
   "metadata": {
    "Rmd_chunk_options": "eval=FALSE",
    "autoscroll": false,
    "collapsed": true
   },
   "outputs": [],
   "source": [
    "?\"<-\"\n",
    "?ls\n",
    "?dir\n",
    "?rm\n",
    "?iris\n",
    "?mtcars"
   ]
  },
  {
   "cell_type": "markdown",
   "metadata": {},
   "source": [
    "2. What is the three-piece recipe for variable definition?\n",
    "3. Define two numeric variables\n",
    "4. What does ls do? Where else do you see this information?\n",
    "\n",
    "> NOTE: We will use the \"iris\" and \"mtcars\" datasets in Parts 2 and 3 of this workshop series.\n",
    "\n",
    "Double question marks ?? will lead you to coding walkthroughs called \"vignettes\". These usually come with preloaded data and examples:\n"
   ]
  },
  {
   "cell_type": "code",
   "execution_count": null,
   "metadata": {
    "autoscroll": false,
    "collapsed": true
   },
   "outputs": [],
   "source": [
    "??psych"
   ]
  },
  {
   "cell_type": "markdown",
   "metadata": {},
   "source": [
    "You will often find that your questions are not answered by the help pages nor vignettes. In that case you should Google-search your question or error message along with the name of a free help website.\n",
    "\n",
    "For example, to get help making boxplots, I might Google search \"R how to make boxplots stack overflow\"\n",
    "\n",
    "You should take a few minutes sometime to browse the contents of these help sites and use their built-in search tools:\n",
    "[UCLA idre](http://www.ats.ucla.edu/stat/r/)\n",
    "[Quick-R](http://statmethods.net/)\n",
    "[R-bloggers](https://www.r-bloggers.com/)\n",
    "[Stack Overflow - R](http://stackoverflow.com/questions/tagged/r)\n",
    "\n",
    "### 1.13  Living in R (`getwd`)\n",
    "Like in Unix, in R you are always in a directory. Your actions are all relative to that directory. You will find this useful for loading data from files and when you save your output it will be located here.\n",
    "\n",
    "Figure out where you are with `getwd()`\n"
   ]
  },
  {
   "cell_type": "code",
   "execution_count": null,
   "metadata": {
    "autoscroll": false,
    "collapsed": true
   },
   "outputs": [],
   "source": [
    "getwd()"
   ]
  },
  {
   "cell_type": "markdown",
   "metadata": {},
   "source": [
    "Tell R you would like to set your working directory to the R-Fundamentals folder you just downloaded with `setwd()`. Follow the format as shown by `getwd()`\n",
    "\n",
    "Substitute your computer name for \"computer.name\". The \"R-Fundamentals-master\" folder I downloaded from GitHub is located on the Desktop, so the file path would look like this:\n"
   ]
  },
  {
   "cell_type": "code",
   "execution_count": null,
   "metadata": {
    "Rmd_chunk_options": "eval=FALSE",
    "autoscroll": false,
    "collapsed": true
   },
   "outputs": [],
   "source": [
    "setwd(\"/Users/computer.name/Desktop/R-Fundamentals-master\")\n",
    "\n",
    "# or, simply click Session -> Set Working Directory -> Choose Directory\n",
    "\n",
    "getwd()"
   ]
  },
  {
   "cell_type": "markdown",
   "metadata": {},
   "source": [
    "\n",
    "Note the difference between Mac and PC users:\n"
   ]
  },
  {
   "cell_type": "code",
   "execution_count": null,
   "metadata": {
    "Rmd_chunk_options": "eval=FALSE",
    "autoscroll": false,
    "collapsed": true
   },
   "outputs": [],
   "source": [
    "setwd(\"/Users/computer.name/Desktop/R-Fundamentals-master\") # Mac\n",
    "setwd(\"C:/Users/computer.name/Desktop/R-Fundamentals-master\")  # Windows uses \"C:/...\""
   ]
  },
  {
   "cell_type": "markdown",
   "metadata": {},
   "source": [
    "You can view the contents of your working directory with `dir()`.\n"
   ]
  },
  {
   "cell_type": "code",
   "execution_count": null,
   "metadata": {
    "autoscroll": false,
    "collapsed": true
   },
   "outputs": [],
   "source": [
    "dir()"
   ]
  },
  {
   "cell_type": "markdown",
   "metadata": {},
   "source": [
    "\n",
    "# **Challenge 2**\n",
    "1. Define two numeric objects\n",
    "2. Define a character object\n",
    "3. Remove an individual object using `rm`\n",
    "4. Wipe your environment using `rm(list=ls())`\n",
    "5. Set your working directory to your \"Downloads\" folder. Now set it back to the \"R-Fundamentals\" folder.\n",
    "\n",
    "# 2.  Atomic data types in R\n",
    "Numeric, character, and logical (aka \"boolean\") data types all exist at the atomic level. Normally this means that they cannot be broken down any further and are the raw inputs for commands in R. Other R variables are frequently built upon these atomic types.\n",
    "\n",
    "### 2.1 Numeric type\n",
    "Numeric data are numbers and integers. You may also hear numeric data referred to as `float` or `double` data types. By default, R stores everything as `doubles` (64 bit floating point numbers) which makes R very memory hungry.\n",
    "\n",
    "Define an object called `num` and then check its class\n"
   ]
  },
  {
   "cell_type": "code",
   "execution_count": null,
   "metadata": {
    "autoscroll": false,
    "collapsed": true
   },
   "outputs": [],
   "source": [
    "num <- 2 * pi\n",
    "num\n",
    "class(num)"
   ]
  },
  {
   "cell_type": "markdown",
   "metadata": {},
   "source": [
    "Standard mathematical operators apply to the creation of numeric data:\n",
    "`+`   `-`   `*`   `^`   `**`  `/`  `%*% (matrix multiplication)`  `%/% (integer division)`  `%% (modular division)`\n"
   ]
  },
  {
   "cell_type": "code",
   "execution_count": null,
   "metadata": {
    "autoscroll": false,
    "collapsed": true
   },
   "outputs": [],
   "source": [
    "5 + 2\n",
    "5 - 2\n",
    "5 * 2\n",
    "5 ^ 2\n",
    "5 ** 2 # same as ^\n",
    "5 / 2\n",
    "5 %*% 2\n",
    "5 %/% 2\n",
    "5 %% 2"
   ]
  },
  {
   "cell_type": "markdown",
   "metadata": {},
   "source": [
    "\n",
    "### 2.2 Character type\n",
    "Character (aka string or text) data are always contained within quotation marks `\" \"`. Character handling in R is fairly close to character handling in a Unix terminal.\n",
    "\n",
    "Let's create an object called `char` and define it with some character data. Then, check its class:\n"
   ]
  },
  {
   "cell_type": "code",
   "execution_count": null,
   "metadata": {
    "autoscroll": false,
    "collapsed": true
   },
   "outputs": [],
   "source": [
    "char <- \"This is character data\"\n",
    "char\n",
    "class(char)"
   ]
  },
  {
   "cell_type": "markdown",
   "metadata": {},
   "source": [
    "\n",
    "### 2.3 Contatenating sentences (`paste`)\n",
    "Use `paste()` to combine/concatenate character data. This will paste together separate words to form a sentence.\n"
   ]
  },
  {
   "cell_type": "code",
   "execution_count": null,
   "metadata": {
    "autoscroll": false,
    "collapsed": true
   },
   "outputs": [],
   "source": [
    "char2 <- paste(\"Hey\", \"momma\", \"I'm\", \"a\", \"string\")\n",
    "char2"
   ]
  },
  {
   "cell_type": "markdown",
   "metadata": {},
   "source": [
    "\n",
    "> NOTE: The following section on string operations can be skipped if time is an issue.\n",
    "\n",
    "Blankspace is the default separater in the `paste()` function. If you don't want this and want the words to be smushed together, use the argument `sep = \"\"`\n"
   ]
  },
  {
   "cell_type": "code",
   "execution_count": null,
   "metadata": {
    "autoscroll": false,
    "collapsed": true
   },
   "outputs": [],
   "source": [
    "char3 <- paste0(\"Hi\", \"momma\", \"I'm\", \"a\", \"string\")\n",
    "char3"
   ]
  },
  {
   "cell_type": "markdown",
   "metadata": {},
   "source": [
    "Note here that R is not a zero-indexed language - lists begin at the number 1. The one and only element in this object is the sentence \"Hey momma I'm a string\".\n",
    "\n",
    "Character data have some useful commands such as `grep`, `substr`, `strsplit`, and `gsub`. Use your help commands to learn more!\n",
    "\n",
    "### 2.4 Function arguments\n",
    "Arguments go inside of the parentheses of R commands. Unnamed arguments are things like the number 4. `split = \" \"` is what is called a named argument. This argument goes inside the parentheses of another command `paste`.\n"
   ]
  },
  {
   "cell_type": "code",
   "execution_count": null,
   "metadata": {
    "autoscroll": false,
    "collapsed": true
   },
   "outputs": [],
   "source": [
    "char4 <- \"This/is/slash/separated/text\"\n",
    "char4\n",
    "split1 <- strsplit(char4, split = \"/\")\n",
    "split1 # a list is returned."
   ]
  },
  {
   "cell_type": "markdown",
   "metadata": {},
   "source": [
    "\n",
    "Most commands require one or two arguments to be defined in order for the command to properly run. You will find that commands are full of default and optional arguments that you can manipulate.\n",
    "\n",
    "### 2.5 Simple string subset example (`substr`)\n",
    "`substr` lets you extract text from certain character positions in character data. Refer back to `char2`\n"
   ]
  },
  {
   "cell_type": "code",
   "execution_count": null,
   "metadata": {
    "autoscroll": false,
    "collapsed": true
   },
   "outputs": [],
   "source": [
    "char2 <- paste(\"Hey\", \"momma\", \"I'm\", \"a\", \"string\")\n",
    "char2"
   ]
  },
  {
   "cell_type": "markdown",
   "metadata": {},
   "source": [
    "\n",
    "If we want to extract just the first four characters of the `char2` object we type:\n"
   ]
  },
  {
   "cell_type": "code",
   "execution_count": null,
   "metadata": {
    "autoscroll": false,
    "collapsed": true
   },
   "outputs": [],
   "source": [
    "substr(char2, 1, 4)"
   ]
  },
  {
   "cell_type": "markdown",
   "metadata": {},
   "source": [
    "\"Hello \" (Hello + blankspace) is returned.\n",
    "\n",
    "You can use `substr()` and the assignment operator `<-` to redefine the first four characters in `char2` with the word \"Yes \" followed by a blankspace\n"
   ]
  },
  {
   "cell_type": "code",
   "execution_count": null,
   "metadata": {
    "autoscroll": false,
    "collapsed": true
   },
   "outputs": [],
   "source": [
    "substr(char2, 1, 4) <- \"Yes \"\n",
    "char2"
   ]
  },
  {
   "cell_type": "markdown",
   "metadata": {},
   "source": [
    "What changed?\n",
    "\n",
    "### 2.6 `gsub` example\n",
    "You can also substitute with `gsub()`. Let's say we want to substitute all periods `.` in `char2` with `X`. We would type:\n"
   ]
  },
  {
   "cell_type": "code",
   "execution_count": null,
   "metadata": {
    "autoscroll": false,
    "collapsed": true
   },
   "outputs": [],
   "source": [
    "char2\n",
    "gsub(\".\", \"X\", char2)"
   ]
  },
  {
   "cell_type": "markdown",
   "metadata": {},
   "source": [
    "What happened here? R thinks `.` is a special shorthand for \"everything\".\n",
    "\n",
    "To be safe, put the period in brackets so that R views it as a subsetting operation and not \"everything else\". You will learn more about bracket notation during the subsetting portion in Part 2:\n"
   ]
  },
  {
   "cell_type": "code",
   "execution_count": null,
   "metadata": {
    "autoscroll": false,
    "collapsed": true
   },
   "outputs": [],
   "source": [
    "gsub(\"[.]\", \"X\", char2)"
   ]
  },
  {
   "cell_type": "markdown",
   "metadata": {},
   "source": [
    "Still nothing happened... Why not? (hint: we don't have any periods in our sentence!). Let's choose another letter:\n"
   ]
  },
  {
   "cell_type": "code",
   "execution_count": null,
   "metadata": {
    "autoscroll": false,
    "collapsed": true
   },
   "outputs": [],
   "source": [
    "gsub(\"[m]\", \"!\", char2)\n",
    "# All \"m\" letters have now been replaced with \"X\". Remember that the `char2` object has not changed because we did not reassign it!\n",
    "char2 <- gsub(\"[m]\", \"!\", char2)\n",
    "char2"
   ]
  },
  {
   "cell_type": "markdown",
   "metadata": {},
   "source": [
    "\n",
    "### 2.7 Logical type\n",
    "Logical (boolean) data are dichotomous TRUE/FALSE values. R internally stores `FALSE` as 0 and `TRUE` as 1. Define a logical object:\n"
   ]
  },
  {
   "cell_type": "code",
   "execution_count": null,
   "metadata": {
    "autoscroll": false,
    "collapsed": true
   },
   "outputs": [],
   "source": [
    "bool_object <- TRUE\n",
    "bool_object\n",
    "class(bool_object)"
   ]
  },
  {
   "cell_type": "markdown",
   "metadata": {},
   "source": [
    "We recommend to always spell out `TRUE` and `FALSE` instead of abbreviating them `T` and `F` which might be mistaken for previously defined variables - therefore, you should not save anything as `T`, `F`, or `TRUE` or `FALSE`! Thus, there are certain words that do not make good variable names. R has many reserved words that you should avoid using. See `?reserved` for more information.\n",
    "\n",
    "Note that logical data also take on numeric properties. Remember that `TRUE` is stored as the numeral 1 and `FALSE` is stored as 0.\n"
   ]
  },
  {
   "cell_type": "code",
   "execution_count": null,
   "metadata": {
    "autoscroll": false,
    "collapsed": true
   },
   "outputs": [],
   "source": [
    "bool_object + 1\n",
    "TRUE - TRUE\n",
    "TRUE + FALSE\n",
    "FALSE - TRUE"
   ]
  },
  {
   "cell_type": "markdown",
   "metadata": {},
   "source": [
    "\n",
    "### 2.8 Logical tests\n",
    "Logical tests are helpful in R if you want to check for equivalence. Logical tests compare two objects and return a logical output. This is useful for removing missing data and subsetting (you will learn more about this in Part 2). Note the use of the double equals `==` sign.\n",
    "\n"
   ]
  },
  {
   "cell_type": "code",
   "execution_count": null,
   "metadata": {
    "Rmd_chunk_options": "eval=FALSE",
    "autoscroll": false,
    "collapsed": true
   },
   "outputs": [],
   "source": [
    "?\"==\"\n",
    "?\"&\"\n",
    "?\"|\"\n",
    "?\"!\""
   ]
  },
  {
   "cell_type": "code",
   "execution_count": null,
   "metadata": {
    "autoscroll": false,
    "collapsed": true
   },
   "outputs": [],
   "source": [
    "TRUE == TRUE\n",
    "FALSE == FALSE\n",
    "TRUE == FALSE\n",
    "TRUE & TRUE   # and\n",
    "TRUE | FALSE  # or\n",
    "TRUE != FALSE  # not\n",
    "TRUE > FALSE\n",
    "FALSE >= TRUE"
   ]
  },
  {
   "cell_type": "markdown",
   "metadata": {},
   "source": [
    "\n",
    "# **Challenge 3**\n",
    "1. Define a numeric object as 0 and check its class\n",
    "2. Define a boolean object as \"FALSE\" and check its class\n",
    "3. Use `==` to compare your numeric and boolean object. Are they equivalent? Why or why not?\n",
    "4. Define a character object that uses `paste()` to combine more than one word into a sentence.\n",
    "\n",
    "[Brunsdon and Comber 2015, page 15](https://us.sagepub.com/en-us/nam/an-introduction-to-r-for-spatial-analysis-and-mapping/book241031) offer a useful summary table of logical operators in R. These are useful for comparing two data variables to each other:\n",
    "\n",
    "Logical operator | Description\n",
    "---------------- | -----------\n",
    "==               | Equal\n",
    "!=               | Not equal\n",
    ">                | Greater than\n",
    "<                | Less than\n",
    ">=               | Greater than or equal\n",
    "<=               | Less than or equal\n",
    "!                | Not (goes in front of other expressions)\n",
    "&                | And (combines expressions)\n",
    "`|`              | Or (combines expressions)\n",
    "\n",
    "[Brunsdon and Comber 2015, page 102](https://us.sagepub.com/en-us/nam/an-introduction-to-r-for-spatial-analysis-and-mapping/book241031) also offer an excellent summary table of logical functions in R.\n",
    "\n",
    "Logical function | Description\n",
    "---------------- | -----------\n",
    "any(x)           | `TRUE` if any in a vector of conditions `x` is true\n",
    "all(x)           | `TRUE` if all of a vector of conditions `x` is true\n",
    "is.numeric(x)    | `TRUE` if `x` contains a numeric value\n",
    "is.character(x)  | `TRUE` if `x` contains a character value\n",
    "is.logical(x)    | `TRUE` if `x` contains a true or false value\n",
    "\n",
    "Often it is handy to see what types of data you are working with. Similar to `class()` we can see what data type an object is with `is.type`. A logical response is returned:\n"
   ]
  },
  {
   "cell_type": "code",
   "execution_count": null,
   "metadata": {
    "autoscroll": false,
    "collapsed": true
   },
   "outputs": [],
   "source": [
    "is.numeric(num)\n",
    "is.logical(bool_object)\n",
    "\n",
    "is.logical(char2)\n",
    "class(char2)"
   ]
  },
  {
   "cell_type": "markdown",
   "metadata": {},
   "source": [
    "\n",
    "### 2.9 Data testing and type coercion (`as.type`)\n",
    "\"Type coercion\" refers to changing the data from one type to another. You can change data types with `as.` and then the data type you wish to convert to.\n",
    "[Brunsdon and Comber 2015, page 102](https://us.sagepub.com/en-us/nam/an-introduction-to-r-for-spatial-analysis-and-mapping/book241031) also offer an excellent summary table of data types in R.\n",
    "\n",
    "Type        | Test          | Conversion\n",
    "----------- | ------------- | ----------\n",
    "character   | is.character  | as.character\n",
    "complex     | is.complex    | as.complex\n",
    "double      | is.double     | as.double\n",
    "expression  | is.expression | as.expression\n",
    "integer     | is.integer    | as.integer\n",
    "list        | is.list       | as.list\n",
    "logical     | is.logical    | as.logical\n",
    "numeric     | is.numeric    | as.numeric\n",
    "single      | is.single     | as.single\n",
    "raw         | is.raw        | as.raw\n",
    "\n",
    "### 2.9 Type coercion example (`as.numeric`)\n"
   ]
  },
  {
   "cell_type": "code",
   "execution_count": null,
   "metadata": {
    "autoscroll": false,
    "collapsed": true
   },
   "outputs": [],
   "source": [
    "# Create some character data\n",
    "char_data <- \"9\"\n",
    "class(char_data)\n",
    "\n",
    "# Coerce this character data to numeric data type\n",
    "as.numeric(char_data)\n",
    "class(char_data)\n",
    "# What happened here? Why did `char_data` not change classes? (hint: we did not overwrite the object!)\n",
    "\n",
    "char.data <- as.numeric(char_data)\n",
    "class(char.data)\n",
    "char.data"
   ]
  },
  {
   "cell_type": "markdown",
   "metadata": {},
   "source": [
    "\n",
    "### 2.10  Type coercion example 2 (`as.integer` and `L`)\n",
    "You can change numeric type to integer type using `as.integer` and `L`\n"
   ]
  },
  {
   "cell_type": "code",
   "execution_count": null,
   "metadata": {
    "autoscroll": false,
    "collapsed": true
   },
   "outputs": [],
   "source": [
    "num <- 4\n",
    "class(num)\n",
    "\n",
    "int <- as.integer(num)\n",
    "class(int)\n",
    "\n",
    "# or\n",
    "int <- 2L\n",
    "class(int)"
   ]
  },
  {
   "cell_type": "markdown",
   "metadata": {},
   "source": [
    "\n",
    "Now, create some character data and try to convert it to integer type:\n"
   ]
  },
  {
   "cell_type": "code",
   "execution_count": null,
   "metadata": {
    "autoscroll": false,
    "collapsed": true
   },
   "outputs": [],
   "source": [
    "# Create a new object\n",
    "char.num <- \"three\"\n",
    "char.num   #Note that the word three is contained within \" \"\n",
    "class(char.num)\n",
    "\n",
    "# What happens if we try to coerce character to numeric data type?\n",
    "as.integer(char.num)"
   ]
  },
  {
   "cell_type": "markdown",
   "metadata": {},
   "source": [
    "Why did this fail? Can R change character data to numbers? Why not? (hint: R has no protocol for automatically coerce words to numbers). As you can see, trying to coerce data types can lead to weird behavior sometimes.\n",
    "\n",
    "# **Challenge 4**\n",
    "1. Create a character object and check its type using `is.character` and `class`. What is the difference between these two methods?\n",
    "2. Try to change (\"coerce\") this object to another data type using `as.integer`, `as.numeric`, or `as.logical`.\n",
    "3. Create an object of class \"integer\". Remember, there are two ways to do this!\n",
    "4. Why is 1 == \"1\" true?   Why is -1 < FALSE true?   Why is \"one\" < 2 false?\n",
    "\n",
    "# 3.  Data structures\n",
    "There are several kinds of data structures in R. Data structures are collections of data objects (e.g., numeric, character, and logical vectors, lists, and matrices) that work together. These four are the most common:\n",
    "\n",
    "1. vector\n",
    "2. list\n",
    "3. matrix\n",
    "4. dataframe\n",
    "\n",
    "### 3.1 Vector\n",
    "A **VECTOR** is an ordered group of the same kind of data. \"Ordered\" means that their position matters. Vectors are one-dimensional and homogenous, and are thus referred to by their type (e.g., character vector, numeric vector, logical vector).\n",
    "\n",
    "Create a numeric vector by combining/concatenating elements with `c()`\n"
   ]
  },
  {
   "cell_type": "code",
   "execution_count": null,
   "metadata": {
    "Rmd_chunk_options": "eval=FALSE",
    "autoscroll": false,
    "collapsed": true
   },
   "outputs": [],
   "source": [
    "?c"
   ]
  },
  {
   "cell_type": "code",
   "execution_count": null,
   "metadata": {
    "autoscroll": false,
    "collapsed": true
   },
   "outputs": [],
   "source": [
    "numeric_vector <- c(3, 5, 6, 5, 3)\n",
    "numeric_vector"
   ]
  },
  {
   "cell_type": "markdown",
   "metadata": {},
   "source": [
    "This numeric vector contains five elements.\n",
    "\n",
    "You can also add items to a vector using `c()` and a comma `,` (as long as it is the same data type)\n"
   ]
  },
  {
   "cell_type": "code",
   "execution_count": null,
   "metadata": {
    "autoscroll": false,
    "collapsed": true
   },
   "outputs": [],
   "source": [
    "numeric_vector2 <- c(numeric_vector, 78)\n",
    "numeric_vector2"
   ]
  },
  {
   "cell_type": "markdown",
   "metadata": {},
   "source": [
    "\n",
    "It doesn't matter what the datatype is for a vector, as long as it is all the same\n"
   ]
  },
  {
   "cell_type": "code",
   "execution_count": null,
   "metadata": {
    "autoscroll": false,
    "collapsed": true
   },
   "outputs": [],
   "source": [
    "logical_vector <- c(TRUE, TRUE, FALSE, FALSE, TRUE)\n",
    "logical_vector\n",
    "\n",
    "logical_vector2 <- c(logical_vector, c(FALSE, FALSE, FALSE))\n",
    "logical_vector2"
   ]
  },
  {
   "cell_type": "markdown",
   "metadata": {},
   "source": [
    "\n",
    "You can also add and multiply vectors, but they need to be the same length\n"
   ]
  },
  {
   "cell_type": "code",
   "execution_count": null,
   "metadata": {
    "autoscroll": false,
    "collapsed": true
   },
   "outputs": [],
   "source": [
    "logical_vector * logical_vector"
   ]
  },
  {
   "cell_type": "markdown",
   "metadata": {},
   "source": [
    "\n",
    "What happens when we multiply `c(1,2,3,4) * c(TRUE, FALSE)` ?\n"
   ]
  },
  {
   "cell_type": "code",
   "execution_count": null,
   "metadata": {
    "autoscroll": false,
    "collapsed": true
   },
   "outputs": [],
   "source": [
    "c(1,2,3,4) * c(TRUE, FALSE)"
   ]
  },
  {
   "cell_type": "markdown",
   "metadata": {},
   "source": [
    "Since the number of elements in the first vector (four) is a multiple of the length of the second vector (two), the second vector gets concatenated against itself two times. This is called \"recycling\".\n",
    "\n",
    "### 3.1 Generating random vectors (`seq`)\n",
    "You might need to create vectors that are sequences of numbers. You can do this via `seq`. Here we specify a vector from zero to the `length` of our object `logical_vector2` (eight). The argument `by=2` tells R that we want only the even numbers!\n"
   ]
  },
  {
   "cell_type": "code",
   "execution_count": null,
   "metadata": {
    "Rmd_chunk_options": "eval=FALSE",
    "autoscroll": false,
    "collapsed": true
   },
   "outputs": [],
   "source": [
    "?length\n",
    "logical_vector2\n",
    "length(logical_vector2)\n",
    "\n",
    "seq(from=0,to=length(logical_vector2),by=2)"
   ]
  },
  {
   "cell_type": "markdown",
   "metadata": {},
   "source": [
    "\n",
    "### 3.2 Sequence where `by = 1` (`:`)\n",
    "R also gives you a shorthand operator for creating sequences in whole number increments of 1. This is the colon symbol `:`\n"
   ]
  },
  {
   "cell_type": "code",
   "execution_count": null,
   "metadata": {
    "autoscroll": false,
    "collapsed": true
   },
   "outputs": [],
   "source": [
    "0:8\n",
    "\n",
    "sequence_object <- c(28:36)\n",
    "sequence_object\n",
    "\n",
    "0:length(logical_vector2)"
   ]
  },
  {
   "cell_type": "markdown",
   "metadata": {},
   "source": [
    "\n",
    "### 3.3 `set.seed`\n",
    "You can also sample random groups of numbers. Use `set.seed()` to ensure that we all always get the same random draws from the parent universe, even on different machines\n"
   ]
  },
  {
   "cell_type": "code",
   "execution_count": null,
   "metadata": {
    "autoscroll": false,
    "collapsed": true
   },
   "outputs": [],
   "source": [
    "?set.seed\n",
    "?runif\n",
    "?rnorm\n",
    "?sample"
   ]
  },
  {
   "cell_type": "markdown",
   "metadata": {},
   "source": [
    "Set the seed, and then choose our values:\n"
   ]
  },
  {
   "cell_type": "code",
   "execution_count": null,
   "metadata": {
    "autoscroll": false,
    "collapsed": true
   },
   "outputs": [],
   "source": [
    "set.seed(1)\n",
    "\n",
    "uniform <- runif(20, 3, 7) # 20 random samples from uniform distribution between the numbers 3 and 7\n",
    "uniform\n",
    "\n",
    "normal <- rnorm(20, 0, 1) # 20 random samples from the normal distribution with a mean of 0 and standard deviation of 1\n",
    "normal\n",
    "\n",
    "integer <- sample(5:10, 20, replace=TRUE) # 20 random samples from between the numbers 5 and 10. Note that `replace=TRUE` signifies that it is OK to reuse numbers already selected.\n",
    "integer\n",
    "\n",
    "character <- sample(c(\"Cat\", \"Dog\", \"Pig\"), 20, replace=TRUE) # 20 random samples of character data\n",
    "character\n",
    "\n",
    "logical <- sample(c(TRUE, FALSE), 20, replace=TRUE) # 20 random samples of logical data\n",
    "logical"
   ]
  },
  {
   "cell_type": "markdown",
   "metadata": {},
   "source": [
    "\n",
    "### 3.4 List\n",
    "A **LIST** is an ordered group of data that are not of the same type. Lists are heterogenous. Instead of using `c()` like in vector creation, use `list()` to create a list:\n"
   ]
  },
  {
   "cell_type": "code",
   "execution_count": null,
   "metadata": {
    "Rmd_chunk_options": "eval=FALSE",
    "autoscroll": false,
    "collapsed": true
   },
   "outputs": [],
   "source": [
    "?list\n",
    "\n",
    "list1 <- list(TRUE, \"one\", 1) # include three kinds of data: logical, character, and integer\n",
    "list1\n",
    "class(list1)"
   ]
  },
  {
   "cell_type": "markdown",
   "metadata": {},
   "source": [
    "Lists are simple containers and are not additive or multiplicative like vectors and matrices are:\n"
   ]
  },
  {
   "cell_type": "code",
   "execution_count": null,
   "metadata": {
    "Rmd_chunk_options": "eval=FALSE",
    "autoscroll": false,
    "collapsed": true
   },
   "outputs": [],
   "source": [
    "list_object * list(FALSE, \"zero\", 0) # Error"
   ]
  },
  {
   "cell_type": "markdown",
   "metadata": {},
   "source": [
    "\n",
    "### 3.5 Matrix\n",
    "**MATRICES** are homogenous like vectors. They are tables comprised of data all of the same type. Matrices are organized into rows and columns.\n",
    "\n",
    "Use `matrix()` to create a matrix\n"
   ]
  },
  {
   "cell_type": "code",
   "execution_count": null,
   "metadata": {
    "Rmd_chunk_options": "eval=FALSE",
    "autoscroll": false,
    "collapsed": true
   },
   "outputs": [],
   "source": [
    "?matrix"
   ]
  },
  {
   "cell_type": "markdown",
   "metadata": {},
   "source": [
    "We can also specify how we want the matrix to be organized using the `nrow` and `ncol` arguments:\n"
   ]
  },
  {
   "cell_type": "code",
   "execution_count": null,
   "metadata": {
    "autoscroll": false,
    "collapsed": true
   },
   "outputs": [],
   "source": [
    "matrix1 <- matrix(1:12, nrow = 4, ncol = 3) # this makes a 4 x 3 matrix\n",
    "matrix1\n",
    "class(matrix1)"
   ]
  },
  {
   "cell_type": "markdown",
   "metadata": {},
   "source": [
    "We can also coerce a vector to a matrix, because a vector is comprised of homogenous data of the same kind, just like a matrix is:\n"
   ]
  },
  {
   "cell_type": "code",
   "execution_count": null,
   "metadata": {
    "autoscroll": false,
    "collapsed": true
   },
   "outputs": [],
   "source": [
    "# Create a numeric vector from 1 to 20\n",
    "vec1 <- c(1:20)\n",
    "vec1\n",
    "class(vec1)\n",
    "\n",
    "# Coerce this vector to a matrix with 10 rows and 2 columns:\n",
    "matrix2 <- matrix(vec1, ncol=2)\n",
    "matrix2\n",
    "class(matrix2)"
   ]
  },
  {
   "cell_type": "markdown",
   "metadata": {},
   "source": [
    "\n",
    "### 3.6 Data frame\n",
    "_It is worth emphasizing the importance of data frames in R!_ Inside R, a **DATA FRAME** is a list of equal-length vectors. These vectors can be of different types. Data frames are heterogenous like lists.\n",
    "\n",
    "This is simply a spreadsheet!\n",
    "\n",
    "Let's create a dataframe called `animals` using the vectors we already created:\n"
   ]
  },
  {
   "cell_type": "code",
   "execution_count": null,
   "metadata": {
    "Rmd_chunk_options": "eval=FALSE",
    "autoscroll": false,
    "collapsed": true
   },
   "outputs": [],
   "source": [
    "uniform\n",
    "normal\n",
    "integer\n",
    "character\n",
    "logical"
   ]
  },
  {
   "cell_type": "markdown",
   "metadata": {},
   "source": [
    "We do this using `data.frame()`\n"
   ]
  },
  {
   "cell_type": "code",
   "execution_count": null,
   "metadata": {
    "Rmd_chunk_options": "eval=FALSE",
    "autoscroll": false,
    "collapsed": true
   },
   "outputs": [],
   "source": [
    "?data.frame"
   ]
  },
  {
   "cell_type": "code",
   "execution_count": null,
   "metadata": {
    "autoscroll": false,
    "collapsed": true
   },
   "outputs": [],
   "source": [
    "animals <- data.frame(uniform, normal, integer, character, logical, stringsAsFactors=FALSE)\n",
    "# NOTE: `stringsAsFactors=FALSE` means that R will NOT try to interpret character data as factor type. More on this below."
   ]
  },
  {
   "cell_type": "markdown",
   "metadata": {},
   "source": [
    "Take a peek at the `animals` data frame to see what it looks like:\n"
   ]
  },
  {
   "cell_type": "code",
   "execution_count": null,
   "metadata": {
    "autoscroll": false,
    "collapsed": true
   },
   "outputs": [],
   "source": [
    "head(animals)"
   ]
  },
  {
   "cell_type": "markdown",
   "metadata": {},
   "source": [
    "We can change the names of the columns by passing into it a vector with our desired names\n"
   ]
  },
  {
   "cell_type": "code",
   "execution_count": null,
   "metadata": {
    "autoscroll": false,
    "collapsed": true
   },
   "outputs": [],
   "source": [
    "# Create a vector called `new_df_names` with the new column names:\n",
    "new_df_names <- c(\"Weight\", \"Progress\", \"Height\", \"Type\", \"Healthy\")\n",
    "\n",
    "# Pass this vector into `colnames()`\n",
    "colnames(animals) <- new_df_names\n",
    "head(animals)"
   ]
  },
  {
   "cell_type": "markdown",
   "metadata": {},
   "source": [
    "We can check the structure of our data frame via `str()`\n"
   ]
  },
  {
   "cell_type": "code",
   "execution_count": null,
   "metadata": {
    "Rmd_chunk_options": "eval=FALSE",
    "autoscroll": false,
    "collapsed": true
   },
   "outputs": [],
   "source": [
    "?str\n",
    "str(animals)"
   ]
  },
  {
   "cell_type": "markdown",
   "metadata": {},
   "source": [
    "Here, we can see that a data frame is just a list of equal-length vectors! In `str()`, our columns are displayed top to bottom, while the data are displayed left to right.\n",
    "\n",
    "##### 3.6.1 Learning about your data frame\n"
   ]
  },
  {
   "cell_type": "code",
   "execution_count": null,
   "metadata": {
    "autoscroll": false,
    "collapsed": true
   },
   "outputs": [],
   "source": [
    "# View the dimensions (nrow x ncol) of the data frame:\n",
    "dim(animals)\n",
    "\n",
    "# View column names:\n",
    "colnames(animals)\n",
    "\n",
    "# View row names (we did not change these, so they default to character type)\n",
    "rownames(animals)\n",
    "class(rownames(animals))"
   ]
  },
  {
   "cell_type": "markdown",
   "metadata": {},
   "source": [
    "\n",
    "##### 3.6.2 Change column order\n",
    "You can change the order of the columns by specifying their new order using `c()` within what is called \"bracket notation\" `[]`.\n",
    "\n",
    "> This will be covered with the rest of subsetting in Part 2.\n",
    "\n"
   ]
  },
  {
   "cell_type": "code",
   "execution_count": null,
   "metadata": {
    "autoscroll": false,
    "collapsed": true
   },
   "outputs": [],
   "source": [
    "animals <- animals[,c(\"Type\", \"Healthy\", \"Weight\", \"Height\", \"Progress\")]\n",
    "head(animals)"
   ]
  },
  {
   "cell_type": "markdown",
   "metadata": {},
   "source": [
    "\n",
    "##### 3.6.3 Factor data type\n",
    "Factor data are categorical types used to make comparisons between data. Factors group the data by their \"levels\" (the different categories within a factor).\n",
    "\n",
    "For example, in our `animals` dataframe, we can coerce \"Type\" from character to factor data type. Cat, Dog, and Pig are the factor levels. If we might want to compare heights and weights between Cat, Dog, and Pigs, we set the character \"Type\" vector to factor data type. We can do so with `factor()`.\n",
    "\n",
    "The dollar sign operator `$` is used to call a single vector from a data frame. This will be discussed more in Part 2 along with the rest of subsetting.\n"
   ]
  },
  {
   "cell_type": "code",
   "execution_count": null,
   "metadata": {
    "autoscroll": false,
    "collapsed": true
   },
   "outputs": [],
   "source": [
    "str(animals)   # \"Name\" is character data type. See how each column name is preceded by `$`?\n",
    "animals$Type <- factor(animals$Type)\n",
    "str(animals)   # \"Name\" is now factor data type!"
   ]
  },
  {
   "cell_type": "markdown",
   "metadata": {},
   "source": [
    "Notice that R stores factors internally as integers and uses the character strings as labels. Also notice that by default R orders factors alphabetically and returns them when we call the \"Type\" vector.\n"
   ]
  },
  {
   "cell_type": "code",
   "execution_count": null,
   "metadata": {
    "autoscroll": false,
    "collapsed": true
   },
   "outputs": [],
   "source": [
    "animals$Type\n",
    "levels(animals$Type)"
   ]
  },
  {
   "cell_type": "markdown",
   "metadata": {},
   "source": [
    "\n",
    "##### 3.6.4 Changing factor \"levels\"\n",
    "Each animal type (Cat, Dog, and Pig) within the factor `animals$Type` vector are the factor levels.\n",
    "\n",
    "If we want to change how R stores the factor levels, we can specify their levels using the `levels()` argument. For example:\n"
   ]
  },
  {
   "cell_type": "code",
   "execution_count": null,
   "metadata": {
    "autoscroll": false,
    "collapsed": true
   },
   "outputs": [],
   "source": [
    "animals$Type  # Levels: Cat Dog Pig (default alphabetical sort)\n",
    "# What if we want to change the factor level sort to Levels: Dog Pig Cat?\n",
    "animals$Type <- factor(animals$Type, levels = c(\"Dog\", \"Pig\", \"Cat\"))\n",
    "animals$Type # Now when we call animals$Name, we can see that the levels have changed"
   ]
  },
  {
   "cell_type": "markdown",
   "metadata": {},
   "source": [
    "\n",
    "> NOTE: we will load the `animals` data frame from file at the beginning of Part 2, so do not worry if your dataframe does not look identical!\n",
    "\n",
    "# **Challenge 5**\n",
    "Vectors\n",
    "1. Create a vector of a sequence of numbers between 1 to 10.\n",
    "2. Coerce that vector into a character vector\n",
    "3. Add the element \"11\" to the end of the vector\n",
    "4. Evaluate the `str` of the vector.\n",
    "\n",
    "Lists\n",
    "5. How does a list differ from an atomic vector?\n",
    "6. Create three objects of different types and lengths and then combine them into a list names `x`.\n",
    "7. If `x` is a list, what is the class of `x[1]`? How about `x[[1]]`? (this is a preview of Part 2).\n",
    "\n",
    "Data frames\n",
    "8. Create a 3x2 data frame called `basket`. List the name of each fruit in the first column and its price in teh second column.\n",
    "9. Now give your dataframe appropriate column and row names.\n",
    "10. We can add a new column using `$` (this will be covered with data subsetting in Part 2). Can you guess how to add a third column called \"Color\", that shows the color of each fruit?\n",
    "\n",
    "Basket example solution:\n"
   ]
  },
  {
   "cell_type": "code",
   "execution_count": null,
   "metadata": {
    "autoscroll": false,
    "collapsed": true
   },
   "outputs": [],
   "source": [
    "f <- factor(c(\"Apple\", \"Orange\", \"Pear\"))\n",
    "p <- c(10, 28, 36)\n",
    "basket <- data.frame(f, p)\n",
    "basket\n",
    "\n",
    "colnames(basket) <- c(\"Fruit\", \"Price\")\n",
    "basket\n",
    "\n",
    "basket$Color <- factor(c(\"Red\", \"Orange\", \"Green\"))\n",
    "str(basket)\n",
    "basket"
   ]
  },
  {
   "cell_type": "markdown",
   "metadata": {},
   "source": [
    "\n",
    "# 4.  Saving your work (`write.csv`)\n",
    "It is always good to save your work. Saving a dataframe as a .CSV file is a convenient way to store it for future use. **Anything saved will be placed into your working directory!**\n",
    "\n",
    "The syntax looks like this:\n",
    "`write.csv(object_name, \"nameOfFile.csv\", row.names=TRUE)`\n",
    "\n",
    "#**Challenge 6**\n",
    "1. Save the \"animals data frame as a .CSV\" file.\n",
    "2. How many basic arguments should you use to save using the `write.csv` function?\n",
    "\n",
    "- Check your working directory to see if it worked!\n"
   ]
  },
  {
   "cell_type": "code",
   "execution_count": null,
   "metadata": {
    "Rmd_chunk_options": "eval=FALSE",
    "autoscroll": false,
    "collapsed": true
   },
   "outputs": [],
   "source": [
    "?write.csv"
   ]
  },
  {
   "cell_type": "markdown",
   "metadata": {},
   "source": [
    "\n",
    "# 5.  Saving your work (`sink`)\n",
    "You can also save a dataframe as a .txt file using sink(). To use a sink, put `sink(\"FileName.txt\")` as the line before the code they want to save, and `sink()` as the line after.\n",
    "\n"
   ]
  },
  {
   "cell_type": "code",
   "execution_count": null,
   "metadata": {
    "autoscroll": false,
    "collapsed": true
   },
   "outputs": [],
   "source": [
    "?sink"
   ]
  },
  {
   "cell_type": "code",
   "execution_count": null,
   "metadata": {
    "Rmd_chunk_options": "eval=FALSE",
    "autoscroll": false,
    "collapsed": true
   },
   "outputs": [],
   "source": [
    "sink(\"animals.txt\")\n",
    "animals\n",
    "sink()"
   ]
  },
  {
   "cell_type": "markdown",
   "metadata": {},
   "source": [
    "If you ever find that your code stops working after saving via `sink()`, you are probably stuck in the sink! Run `sink()` as many times as necessary until you get a warning message that says \"no sink to remove\".\n",
    "\n",
    "> We will talk about saving plots as .PNG and .PDF file types in Part 3!\n",
    "\n",
    "# 6.  Homework (optional)\n",
    "swirl is a package that helps you learn R by using R. Visit the [swirl](http://swirlstats.com/) homepage to learn more\n"
   ]
  },
  {
   "cell_type": "code",
   "execution_count": null,
   "metadata": {
    "Rmd_chunk_options": "eval=FALSE",
    "autoscroll": false,
    "collapsed": true
   },
   "outputs": [],
   "source": [
    "library(swirl)\n",
    "swirl()\n",
    "# follow the instructions until you can select number 1 \"R Programming: The basics of programming in R\""
   ]
  },
  {
   "cell_type": "markdown",
   "metadata": {},
   "source": [
    "\n",
    "# **Challenge 6**\n",
    "1. Begin a swirl walkthrough with the class.\n",
    "\n",
    "# Acknowledgements\n",
    "- [Wickham H. 2014. Advanced R](http://adv-r.had.co.nz/)\n",
    "- [Lander J. 2013. R for everyone: Advanced analytics and graphics](http://www.jaredlander.com/r-for-everyone/)\n",
    "- [Matloff N. 2011. The art of R programming: A tour of statistical software design](https://www.nostarch.com/artofr.htm)\n",
    "- [Brunsdon C, Comber L. 2015. An Introduction to R for Spatial Analysis and Mapping](https://us.sagepub.com/en-us/nam/an-introduction-to-r-for-spatial-analysis-and-mapping/book241031)\n",
    "- Contributions by Evan Muzzall, Rochelle Terman, Dillon Niederhut, Sam Abdel-Ghaffar\n"
   ]
  }
 ],
 "metadata": {
  "Rmd_header": {
   "author": "D-Lab",
   "date": "2017/09/03",
   "output": {
    "html_document": {
     "toc": true,
     "toc_float": true
    },
    "word_document": {
     "toc": true
    }
   },
   "title": "R Fundamentals Part 1: Introduction"
  },
  "kernelspec": {
   "display_name": "R",
   "language": "R",
   "name": "ir"
  },
  "language_info": {
   "codemirror_mode": "r",
   "file_extension": ".r",
   "mimetype": "text/x-r-source",
   "name": "R",
   "pygments_lexer": "r"
  }
 },
 "nbformat": 4,
 "nbformat_minor": 0
}
