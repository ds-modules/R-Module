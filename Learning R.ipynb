{
 "cells": [
  {
   "cell_type": "markdown",
   "metadata": {},
   "source": [
    "# Mapping from `datascience` to R\n",
    "**Authors**: Eric Van Dusen, Soham Mandal"
   ]
  },
  {
   "cell_type": "markdown",
   "metadata": {},
   "source": [
    "This notebook serves as an introduction to basic R terminology, data structures and commands. The functions introduced will be analogous to those in Berkeley's `datascience` module, with examples provided for each."
   ]
  },
  {
   "cell_type": "markdown",
   "metadata": {},
   "source": [
    "## 1. Basics of R"
   ]
  },
  {
   "cell_type": "markdown",
   "metadata": {},
   "source": [
    "R is a command line driven program. This means that the user can enter expressions, create variables and define functions and run them in the R console. In the Jupyter notebook interface, code chunks can be run as individual cells either by clicking on 'Run' in the toolbar above or using the shortcut keys `shift + enter`\n",
    "<br>"
   ]
  },
  {
   "cell_type": "markdown",
   "metadata": {},
   "source": [
    "### 1.1 Importing and loading packages"
   ]
  },
  {
   "cell_type": "markdown",
   "metadata": {},
   "source": [
    "In Python, we use the following syntax to install packages:\n",
    "```python\n",
    "!pip install datascience\n",
    "```\n",
    "And we load them using:\n",
    "```python\n",
    "import numpy as np\n",
    "from datascience import Table\n",
    "```\n",
    "\n",
    "In R, we use `install.packages('package_name')` to install new packages from the CRAN repository. For a full list of available packages, refer to https://cran.r-project.org/web/packages/available_packages_by_name.html\n",
    "\n",
    "It is not necessary to reinstall packages everytime we quit or reload an R session. Once we have a package installed, we can load it using `library('package_name')`."
   ]
  },
  {
   "cell_type": "code",
   "execution_count": 26,
   "metadata": {},
   "outputs": [
    {
     "name": "stdout",
     "output_type": "stream",
     "text": [
      "\n",
      "The downloaded binary packages are in\n",
      "\t/var/folders/nz/bp6h770d6kq3p86l3jm192jw0000gn/T//RtmpNCpKhd/downloaded_packages\n"
     ]
    }
   ],
   "source": [
    "# example: install a package\n",
    "install.packages('ggplot2')"
   ]
  },
  {
   "cell_type": "code",
   "execution_count": 27,
   "metadata": {},
   "outputs": [],
   "source": [
    "# example: loading a package\n",
    "library('ggplot2')"
   ]
  },
  {
   "cell_type": "markdown",
   "metadata": {},
   "source": [
    "### 1.2 Arithmetic and Logical Operators"
   ]
  },
  {
   "cell_type": "markdown",
   "metadata": {},
   "source": [
    "Here are the basic arithmetic operations in Python:\n",
    "<br>\n",
    "```python\n",
    "import math\n",
    "import numpy as np\n",
    "\n",
    "print(2 + 3) # add numbers\n",
    "print(3**4) # powers\n",
    "print(pow(3, 4)) # powers\n",
    "print(math.sqrt(4**4)) # functions\n",
    "print(21 % 5) # 21 mod 5\n",
    "print(math.log(10)) # take log\n",
    "print(math.exp(2)) # exponential\n",
    "print(np.abs(-2)) # absolute value\n",
    "print(2*math.pi) # mathematical constant\n",
    "\n",
    "# scientific notation\n",
    "print(5000000000 * 1000)\n",
    "print(5e9 * 1e3)\n",
    "```\n",
    "In Python, we need to import `numpy` and `math` for certain mathematical operations. In R, however, these capabilities are built-in and no imports are required.\n",
    "<br>\n",
    "<br>\n",
    "Running the following cells will demostrate some basic operations performed in R."
   ]
  },
  {
   "cell_type": "code",
   "execution_count": 1,
   "metadata": {},
   "outputs": [
    {
     "data": {
      "text/html": [
       "5"
      ],
      "text/latex": [
       "5"
      ],
      "text/markdown": [
       "5"
      ],
      "text/plain": [
       "[1] 5"
      ]
     },
     "metadata": {},
     "output_type": "display_data"
    }
   ],
   "source": [
    "# adding two numbers\n",
    "2 + 3"
   ]
  },
  {
   "cell_type": "code",
   "execution_count": 2,
   "metadata": {},
   "outputs": [
    {
     "data": {
      "text/html": [
       "81"
      ],
      "text/latex": [
       "81"
      ],
      "text/markdown": [
       "81"
      ],
      "text/plain": [
       "[1] 81"
      ]
     },
     "metadata": {},
     "output_type": "display_data"
    }
   ],
   "source": [
    "# raising to a power\n",
    "3 ^ 4"
   ]
  },
  {
   "cell_type": "code",
   "execution_count": 3,
   "metadata": {},
   "outputs": [
    {
     "data": {
      "text/html": [
       "16"
      ],
      "text/latex": [
       "16"
      ],
      "text/markdown": [
       "16"
      ],
      "text/plain": [
       "[1] 16"
      ]
     },
     "metadata": {},
     "output_type": "display_data"
    }
   ],
   "source": [
    "# square roots\n",
    "sqrt(4 ^ 4)"
   ]
  },
  {
   "cell_type": "code",
   "execution_count": 4,
   "metadata": {},
   "outputs": [
    {
     "data": {
      "text/html": [
       "1"
      ],
      "text/latex": [
       "1"
      ],
      "text/markdown": [
       "1"
      ],
      "text/plain": [
       "[1] 1"
      ]
     },
     "metadata": {},
     "output_type": "display_data"
    }
   ],
   "source": [
    "# 21 mod 5\n",
    "21 %% 5 "
   ]
  },
  {
   "cell_type": "code",
   "execution_count": 5,
   "metadata": {},
   "outputs": [
    {
     "data": {
      "text/html": [
       "2.30258509299405"
      ],
      "text/latex": [
       "2.30258509299405"
      ],
      "text/markdown": [
       "2.30258509299405"
      ],
      "text/plain": [
       "[1] 2.302585"
      ]
     },
     "metadata": {},
     "output_type": "display_data"
    }
   ],
   "source": [
    "# taking the log\n",
    "log(10)"
   ]
  },
  {
   "cell_type": "code",
   "execution_count": 6,
   "metadata": {},
   "outputs": [
    {
     "data": {
      "text/html": [
       "7.38905609893065"
      ],
      "text/latex": [
       "7.38905609893065"
      ],
      "text/markdown": [
       "7.38905609893065"
      ],
      "text/plain": [
       "[1] 7.389056"
      ]
     },
     "metadata": {},
     "output_type": "display_data"
    }
   ],
   "source": [
    "# exponential\n",
    "exp(2) "
   ]
  },
  {
   "cell_type": "code",
   "execution_count": 7,
   "metadata": {},
   "outputs": [
    {
     "data": {
      "text/html": [
       "6.28318530717959"
      ],
      "text/latex": [
       "6.28318530717959"
      ],
      "text/markdown": [
       "6.28318530717959"
      ],
      "text/plain": [
       "[1] 6.283185"
      ]
     },
     "metadata": {},
     "output_type": "display_data"
    }
   ],
   "source": [
    "# using mathematical constants\n",
    "2 * pi "
   ]
  },
  {
   "cell_type": "code",
   "execution_count": 8,
   "metadata": {},
   "outputs": [
    {
     "data": {
      "text/html": [
       "2"
      ],
      "text/latex": [
       "2"
      ],
      "text/markdown": [
       "2"
      ],
      "text/plain": [
       "[1] 2"
      ]
     },
     "metadata": {},
     "output_type": "display_data"
    }
   ],
   "source": [
    "# absolute value\n",
    "abs(-2)"
   ]
  },
  {
   "cell_type": "code",
   "execution_count": 9,
   "metadata": {},
   "outputs": [
    {
     "data": {
      "text/html": [
       "5e+12"
      ],
      "text/latex": [
       "5e+12"
      ],
      "text/markdown": [
       "5e+12"
      ],
      "text/plain": [
       "[1] 5e+12"
      ]
     },
     "metadata": {},
     "output_type": "display_data"
    }
   ],
   "source": [
    "# scientific notation\n",
    "5e9 * 1e3"
   ]
  },
  {
   "cell_type": "markdown",
   "metadata": {},
   "source": [
    "Now, recall the logical operations in Python:\n",
    "```python\n",
    "print((1 > 0) and (3 <= 5))\n",
    "print((1 < 0) or (3 > 5))\n",
    "print((3 == 9/3) or (2 < 1) )\n",
    "print(not(2 != 4/3))\n",
    "```\n",
    "<br>\n",
    "In R, the logical operators are <, <=, >, >=, == for exact equality and != for inequality. \n",
    "<br>\n",
    "`and`, `or`, `not` is replaced by `&`, `|`, `!`. \n",
    "<br>\n",
    "The boolean values True/False in Python correspond to TRUE/FALSE in R (Notice the case difference). \n",
    "<br><br>\n",
    "Run the cells below to see how logical operators work in R."
   ]
  },
  {
   "cell_type": "code",
   "execution_count": 10,
   "metadata": {},
   "outputs": [
    {
     "data": {
      "text/html": [
       "TRUE"
      ],
      "text/latex": [
       "TRUE"
      ],
      "text/markdown": [
       "TRUE"
      ],
      "text/plain": [
       "[1] TRUE"
      ]
     },
     "metadata": {},
     "output_type": "display_data"
    }
   ],
   "source": [
    "(1 > 0) & (3 <= 5)"
   ]
  },
  {
   "cell_type": "code",
   "execution_count": 11,
   "metadata": {},
   "outputs": [
    {
     "data": {
      "text/html": [
       "FALSE"
      ],
      "text/latex": [
       "FALSE"
      ],
      "text/markdown": [
       "FALSE"
      ],
      "text/plain": [
       "[1] FALSE"
      ]
     },
     "metadata": {},
     "output_type": "display_data"
    }
   ],
   "source": [
    "(1 < 0) | (3 > 5)"
   ]
  },
  {
   "cell_type": "code",
   "execution_count": 12,
   "metadata": {},
   "outputs": [
    {
     "data": {
      "text/html": [
       "TRUE"
      ],
      "text/latex": [
       "TRUE"
      ],
      "text/markdown": [
       "TRUE"
      ],
      "text/plain": [
       "[1] TRUE"
      ]
     },
     "metadata": {},
     "output_type": "display_data"
    }
   ],
   "source": [
    "(3 == 9/3) | (2 < 1)"
   ]
  },
  {
   "cell_type": "code",
   "execution_count": 13,
   "metadata": {},
   "outputs": [
    {
     "data": {
      "text/html": [
       "FALSE"
      ],
      "text/latex": [
       "FALSE"
      ],
      "text/markdown": [
       "FALSE"
      ],
      "text/plain": [
       "[1] FALSE"
      ]
     },
     "metadata": {},
     "output_type": "display_data"
    }
   ],
   "source": [
    "!(2 != 4/3)"
   ]
  },
  {
   "cell_type": "markdown",
   "metadata": {},
   "source": [
    "### 1.3 Assigning variables"
   ]
  },
  {
   "cell_type": "markdown",
   "metadata": {},
   "source": [
    "In R, the assignment operator is `<-`. In most (not all) contexts, the `=` operator can be used as an alternative. It is recommended to use `<-` as standard usage to avoid mistakes.\n",
    "\n",
    "Variables names in R are case sensitive, which means `A` and `a` are different symbols and would refer to different variables."
   ]
  },
  {
   "cell_type": "code",
   "execution_count": 14,
   "metadata": {},
   "outputs": [
    {
     "name": "stdout",
     "output_type": "stream",
     "text": [
      "[1] 3\n",
      "[1] 7\n"
     ]
    }
   ],
   "source": [
    "# run this cell\n",
    "val <- 3\n",
    "print(val) # same usage of print function as in Python 3\n",
    "\n",
    "Val <- 7 # case-sensitive!\n",
    "print(Val)"
   ]
  },
  {
   "cell_type": "markdown",
   "metadata": {},
   "source": [
    "Vectors in R are analogous to lists in Python. The syntax for vectors is of the form `c(a, b, c)` (c means we are declaring a vector datatype).\n",
    "<br>\n",
    "```python\n",
    "# A comparison: create a list of numbers in python\n",
    "a = [0.125, 4.75, -1.3]\n",
    "a1 = np.array([0.125, 4.75, -1.3])\n",
    "a1\n",
    "```"
   ]
  },
  {
   "cell_type": "code",
   "execution_count": 15,
   "metadata": {},
   "outputs": [
    {
     "data": {
      "text/html": [
       "<ol class=list-inline>\n",
       "\t<li>1</li>\n",
       "\t<li>2</li>\n",
       "\t<li>3</li>\n",
       "</ol>\n"
      ],
      "text/latex": [
       "\\begin{enumerate*}\n",
       "\\item 1\n",
       "\\item 2\n",
       "\\item 3\n",
       "\\end{enumerate*}\n"
      ],
      "text/markdown": [
       "1. 1\n",
       "2. 2\n",
       "3. 3\n",
       "\n",
       "\n"
      ],
      "text/plain": [
       "[1] 1 2 3"
      ]
     },
     "metadata": {},
     "output_type": "display_data"
    },
    {
     "data": {
      "text/html": [
       "<ol class=list-inline>\n",
       "\t<li>4</li>\n",
       "\t<li>5</li>\n",
       "\t<li>6</li>\n",
       "</ol>\n"
      ],
      "text/latex": [
       "\\begin{enumerate*}\n",
       "\\item 4\n",
       "\\item 5\n",
       "\\item 6\n",
       "\\end{enumerate*}\n"
      ],
      "text/markdown": [
       "1. 4\n",
       "2. 5\n",
       "3. 6\n",
       "\n",
       "\n"
      ],
      "text/plain": [
       "[1] 4 5 6"
      ]
     },
     "metadata": {},
     "output_type": "display_data"
    }
   ],
   "source": [
    "# run this cell\n",
    "a <- c(1, 2, 3)\n",
    "a\n",
    "b <- c(4, 5, 6)\n",
    "b"
   ]
  },
  {
   "cell_type": "code",
   "execution_count": 16,
   "metadata": {},
   "outputs": [
    {
     "data": {
      "text/html": [
       "<ol class=list-inline>\n",
       "\t<li>1</li>\n",
       "\t<li>2</li>\n",
       "\t<li>3</li>\n",
       "\t<li>4</li>\n",
       "\t<li>5</li>\n",
       "\t<li>6</li>\n",
       "</ol>\n"
      ],
      "text/latex": [
       "\\begin{enumerate*}\n",
       "\\item 1\n",
       "\\item 2\n",
       "\\item 3\n",
       "\\item 4\n",
       "\\item 5\n",
       "\\item 6\n",
       "\\end{enumerate*}\n"
      ],
      "text/markdown": [
       "1. 1\n",
       "2. 2\n",
       "3. 3\n",
       "4. 4\n",
       "5. 5\n",
       "6. 6\n",
       "\n",
       "\n"
      ],
      "text/plain": [
       "[1] 1 2 3 4 5 6"
      ]
     },
     "metadata": {},
     "output_type": "display_data"
    }
   ],
   "source": [
    "# combine two vectors\n",
    "ab <- c(a, b)\n",
    "ab"
   ]
  },
  {
   "cell_type": "markdown",
   "metadata": {},
   "source": [
    "In Python, we used `np.arange` to create a numpy array with a start, end and a step value as follows:\n",
    "```python\n",
    "a = np.arange(4, 9, 1) # creates [4 5 6 7 8]\n",
    "```\n",
    "<br>\n",
    "In R, we can use the `seq` function to do the same. The end element is included in `seq`, unlike `np.arange`."
   ]
  },
  {
   "cell_type": "code",
   "execution_count": 18,
   "metadata": {},
   "outputs": [
    {
     "data": {
      "text/html": [
       "<ol class=list-inline>\n",
       "\t<li>4</li>\n",
       "\t<li>5</li>\n",
       "\t<li>6</li>\n",
       "\t<li>7</li>\n",
       "\t<li>8</li>\n",
       "\t<li>9</li>\n",
       "</ol>\n"
      ],
      "text/latex": [
       "\\begin{enumerate*}\n",
       "\\item 4\n",
       "\\item 5\n",
       "\\item 6\n",
       "\\item 7\n",
       "\\item 8\n",
       "\\item 9\n",
       "\\end{enumerate*}\n"
      ],
      "text/markdown": [
       "1. 4\n",
       "2. 5\n",
       "3. 6\n",
       "4. 7\n",
       "5. 8\n",
       "6. 9\n",
       "\n",
       "\n"
      ],
      "text/plain": [
       "[1] 4 5 6 7 8 9"
      ]
     },
     "metadata": {},
     "output_type": "display_data"
    }
   ],
   "source": [
    "# run this cell\n",
    "seq1 <- seq(from=4, to=9, by=1)\n",
    "seq1 # Notice the output difference with np.arange"
   ]
  },
  {
   "cell_type": "markdown",
   "metadata": {},
   "source": [
    "There are more parameters available for the `seq` function. To pull up more information about an R function, we can use either `?seq` or `help(seq)` "
   ]
  },
  {
   "cell_type": "markdown",
   "metadata": {},
   "source": [
    "Another important difference is that in R, indexing starts at 1, unlike 0 in Python."
   ]
  },
  {
   "cell_type": "code",
   "execution_count": 21,
   "metadata": {},
   "outputs": [
    {
     "data": {
      "text/html": [
       "4"
      ],
      "text/latex": [
       "4"
      ],
      "text/markdown": [
       "4"
      ],
      "text/plain": [
       "[1] 4"
      ]
     },
     "metadata": {},
     "output_type": "display_data"
    }
   ],
   "source": [
    "seq1[1] # extracting element at first index of vector"
   ]
  },
  {
   "cell_type": "markdown",
   "metadata": {},
   "source": [
    "## 2. Dataframes: Storing tabular data"
   ]
  },
  {
   "cell_type": "markdown",
   "metadata": {},
   "source": [
    "In Python's `datascience` module, we used `Table` to build our dataframes and used commands such as `select()`, `where()`, `group()`, `column()` etc. In this section, we will go over some basic commands to work with the most commonly used data structure in R: Dataframes."
   ]
  },
  {
   "cell_type": "markdown",
   "metadata": {},
   "source": [
    "### 2.1 Creating a Dataframe"
   ]
  },
  {
   "cell_type": "markdown",
   "metadata": {},
   "source": [
    "In Python, this is how we create tables from scratch by extending an empty table:\n",
    "```python\n",
    "t = Table().with_columns([\n",
    "     'letter', ['a', 'b', 'c', 'z'],\n",
    "     'count',  [  9,   3,   3,   1],\n",
    "     'points', [  1,   2,   2,  10],\n",
    " ])\n",
    "```\n",
    "<br> \n",
    "In R, we can initialize a dataframe using `data.frame()`. For a full list of parameters and options, refer to [this guide](https://www.rdocumentation.org/packages/base/versions/3.5.0/topics/data.frame)\n",
    "\n",
    "When not specified, the function `data.frame` will coerce all character variables to factors. If you want to keep the strings as character variables, you need to specify `stringsAsFactors = FALSE`."
   ]
  },
  {
   "cell_type": "code",
   "execution_count": 25,
   "metadata": {},
   "outputs": [
    {
     "data": {
      "text/html": [
       "<table>\n",
       "<thead><tr><th scope=col>letter</th><th scope=col>count</th><th scope=col>points</th></tr></thead>\n",
       "<tbody>\n",
       "\t<tr><td>a </td><td>9 </td><td> 1</td></tr>\n",
       "\t<tr><td>b </td><td>3 </td><td> 2</td></tr>\n",
       "\t<tr><td>c </td><td>3 </td><td> 2</td></tr>\n",
       "\t<tr><td>z </td><td>1 </td><td>10</td></tr>\n",
       "</tbody>\n",
       "</table>\n"
      ],
      "text/latex": [
       "\\begin{tabular}{r|lll}\n",
       " letter & count & points\\\\\n",
       "\\hline\n",
       "\t a  & 9  &  1\\\\\n",
       "\t b  & 3  &  2\\\\\n",
       "\t c  & 3  &  2\\\\\n",
       "\t z  & 1  & 10\\\\\n",
       "\\end{tabular}\n"
      ],
      "text/markdown": [
       "\n",
       "letter | count | points | \n",
       "|---|---|---|---|\n",
       "| a  | 9  |  1 | \n",
       "| b  | 3  |  2 | \n",
       "| c  | 3  |  2 | \n",
       "| z  | 1  | 10 | \n",
       "\n",
       "\n"
      ],
      "text/plain": [
       "  letter count points\n",
       "1 a      9      1    \n",
       "2 b      3      2    \n",
       "3 c      3      2    \n",
       "4 z      1     10    "
      ]
     },
     "metadata": {},
     "output_type": "display_data"
    }
   ],
   "source": [
    "# example: creating a dataframe in R\n",
    "t <- data.frame(letter = c('a', 'b', 'c', 'z'),\n",
    "                count = c(9, 3, 3, 1),\n",
    "                points = c(1, 2, 2, 10),\n",
    "                stringsAsFactors = FALSE\n",
    "               )\n",
    "t"
   ]
  },
  {
   "cell_type": "markdown",
   "metadata": {},
   "source": [
    "More often, we will need to create a dataframe by importing data from a .csv file. In `datascience`, this is how we read data from a csv:\n",
    "```python\n",
    "Table.read_table('sample.csv')\n",
    "```\n",
    "\n",
    "In R, we can use `read.csv()` to read data from a csv file. For a full list of parameters, refer to [this guide](https://www.rdocumentation.org/packages/utils/versions/3.5.0/topics/read.table)"
   ]
  },
  {
   "cell_type": "code",
   "execution_count": 37,
   "metadata": {},
   "outputs": [
    {
     "data": {
      "text/html": [
       "<table>\n",
       "<thead><tr><th scope=col>X</th><th scope=col>Birth.Weight</th><th scope=col>Gestational.Days</th><th scope=col>Maternal.Age</th><th scope=col>Maternal.Height</th><th scope=col>Maternal.Pregnancy.Weight</th><th scope=col>Maternal.Smoker</th></tr></thead>\n",
       "<tbody>\n",
       "\t<tr><td>1    </td><td>120  </td><td>284  </td><td>27   </td><td>62   </td><td>100  </td><td>FALSE</td></tr>\n",
       "\t<tr><td>2    </td><td>113  </td><td>282  </td><td>33   </td><td>64   </td><td>135  </td><td>FALSE</td></tr>\n",
       "\t<tr><td>3    </td><td>128  </td><td>279  </td><td>28   </td><td>64   </td><td>115  </td><td> TRUE</td></tr>\n",
       "\t<tr><td>4    </td><td>108  </td><td>282  </td><td>23   </td><td>67   </td><td>125  </td><td> TRUE</td></tr>\n",
       "\t<tr><td>5    </td><td>136  </td><td>286  </td><td>25   </td><td>62   </td><td> 93  </td><td>FALSE</td></tr>\n",
       "\t<tr><td>6    </td><td>138  </td><td>244  </td><td>33   </td><td>62   </td><td>178  </td><td>FALSE</td></tr>\n",
       "</tbody>\n",
       "</table>\n"
      ],
      "text/latex": [
       "\\begin{tabular}{r|lllllll}\n",
       " X & Birth.Weight & Gestational.Days & Maternal.Age & Maternal.Height & Maternal.Pregnancy.Weight & Maternal.Smoker\\\\\n",
       "\\hline\n",
       "\t 1     & 120   & 284   & 27    & 62    & 100   & FALSE\\\\\n",
       "\t 2     & 113   & 282   & 33    & 64    & 135   & FALSE\\\\\n",
       "\t 3     & 128   & 279   & 28    & 64    & 115   &  TRUE\\\\\n",
       "\t 4     & 108   & 282   & 23    & 67    & 125   &  TRUE\\\\\n",
       "\t 5     & 136   & 286   & 25    & 62    &  93   & FALSE\\\\\n",
       "\t 6     & 138   & 244   & 33    & 62    & 178   & FALSE\\\\\n",
       "\\end{tabular}\n"
      ],
      "text/markdown": [
       "\n",
       "X | Birth.Weight | Gestational.Days | Maternal.Age | Maternal.Height | Maternal.Pregnancy.Weight | Maternal.Smoker | \n",
       "|---|---|---|---|---|---|\n",
       "| 1     | 120   | 284   | 27    | 62    | 100   | FALSE | \n",
       "| 2     | 113   | 282   | 33    | 64    | 135   | FALSE | \n",
       "| 3     | 128   | 279   | 28    | 64    | 115   |  TRUE | \n",
       "| 4     | 108   | 282   | 23    | 67    | 125   |  TRUE | \n",
       "| 5     | 136   | 286   | 25    | 62    |  93   | FALSE | \n",
       "| 6     | 138   | 244   | 33    | 62    | 178   | FALSE | \n",
       "\n",
       "\n"
      ],
      "text/plain": [
       "  X Birth.Weight Gestational.Days Maternal.Age Maternal.Height\n",
       "1 1 120          284              27           62             \n",
       "2 2 113          282              33           64             \n",
       "3 3 128          279              28           64             \n",
       "4 4 108          282              23           67             \n",
       "5 5 136          286              25           62             \n",
       "6 6 138          244              33           62             \n",
       "  Maternal.Pregnancy.Weight Maternal.Smoker\n",
       "1 100                       FALSE          \n",
       "2 135                       FALSE          \n",
       "3 115                        TRUE          \n",
       "4 125                        TRUE          \n",
       "5  93                       FALSE          \n",
       "6 178                       FALSE          "
      ]
     },
     "metadata": {},
     "output_type": "display_data"
    }
   ],
   "source": [
    "# example: reading baby.csv (Located in current working directory)\n",
    "baby <- read.csv('baby.csv')\n",
    "head(baby) # display first few rows of dataframe"
   ]
  },
  {
   "cell_type": "code",
   "execution_count": 38,
   "metadata": {},
   "outputs": [
    {
     "data": {
      "text/plain": [
       "       X           Birth.Weight   Gestational.Days  Maternal.Age  \n",
       " Min.   :   1.0   Min.   : 55.0   Min.   :148.0    Min.   :15.00  \n",
       " 1st Qu.: 294.2   1st Qu.:108.0   1st Qu.:272.0    1st Qu.:23.00  \n",
       " Median : 587.5   Median :120.0   Median :280.0    Median :26.00  \n",
       " Mean   : 587.5   Mean   :119.5   Mean   :279.1    Mean   :27.23  \n",
       " 3rd Qu.: 880.8   3rd Qu.:131.0   3rd Qu.:288.0    3rd Qu.:31.00  \n",
       " Max.   :1174.0   Max.   :176.0   Max.   :353.0    Max.   :45.00  \n",
       " Maternal.Height Maternal.Pregnancy.Weight Maternal.Smoker\n",
       " Min.   :53.00   Min.   : 87.0             Mode :logical  \n",
       " 1st Qu.:62.00   1st Qu.:114.2             FALSE:715      \n",
       " Median :64.00   Median :125.0             TRUE :459      \n",
       " Mean   :64.05   Mean   :128.5                            \n",
       " 3rd Qu.:66.00   3rd Qu.:139.0                            \n",
       " Max.   :72.00   Max.   :250.0                            "
      ]
     },
     "metadata": {},
     "output_type": "display_data"
    }
   ],
   "source": [
    "# view data summary\n",
    "summary(baby)"
   ]
  },
  {
   "cell_type": "code",
   "execution_count": 39,
   "metadata": {},
   "outputs": [
    {
     "data": {
      "text/html": [
       "<table>\n",
       "<thead><tr><th scope=col>State</th><th scope=col>Participation.Rate</th><th scope=col>Critical.Reading</th><th scope=col>Math</th><th scope=col>Writing</th><th scope=col>Combined</th></tr></thead>\n",
       "<tbody>\n",
       "\t<tr><td>North Dakota</td><td>2.3         </td><td>612         </td><td>620         </td><td>584         </td><td>1816        </td></tr>\n",
       "\t<tr><td>Illinois    </td><td>4.6         </td><td>599         </td><td>616         </td><td>587         </td><td>1802        </td></tr>\n",
       "\t<tr><td>Iowa        </td><td>3.1         </td><td>605         </td><td>611         </td><td>578         </td><td>1794        </td></tr>\n",
       "\t<tr><td>South Dakota</td><td>2.9         </td><td>604         </td><td>609         </td><td>579         </td><td>1792        </td></tr>\n",
       "\t<tr><td>Minnesota   </td><td>5.9         </td><td>598         </td><td>610         </td><td>578         </td><td>1786        </td></tr>\n",
       "\t<tr><td>Michigan    </td><td>3.8         </td><td>593         </td><td>610         </td><td>581         </td><td>1784        </td></tr>\n",
       "</tbody>\n",
       "</table>\n"
      ],
      "text/latex": [
       "\\begin{tabular}{r|llllll}\n",
       " State & Participation.Rate & Critical.Reading & Math & Writing & Combined\\\\\n",
       "\\hline\n",
       "\t North Dakota & 2.3          & 612          & 620          & 584          & 1816        \\\\\n",
       "\t Illinois     & 4.6          & 599          & 616          & 587          & 1802        \\\\\n",
       "\t Iowa         & 3.1          & 605          & 611          & 578          & 1794        \\\\\n",
       "\t South Dakota & 2.9          & 604          & 609          & 579          & 1792        \\\\\n",
       "\t Minnesota    & 5.9          & 598          & 610          & 578          & 1786        \\\\\n",
       "\t Michigan     & 3.8          & 593          & 610          & 581          & 1784        \\\\\n",
       "\\end{tabular}\n"
      ],
      "text/markdown": [
       "\n",
       "State | Participation.Rate | Critical.Reading | Math | Writing | Combined | \n",
       "|---|---|---|---|---|---|\n",
       "| North Dakota | 2.3          | 612          | 620          | 584          | 1816         | \n",
       "| Illinois     | 4.6          | 599          | 616          | 587          | 1802         | \n",
       "| Iowa         | 3.1          | 605          | 611          | 578          | 1794         | \n",
       "| South Dakota | 2.9          | 604          | 609          | 579          | 1792         | \n",
       "| Minnesota    | 5.9          | 598          | 610          | 578          | 1786         | \n",
       "| Michigan     | 3.8          | 593          | 610          | 581          | 1784         | \n",
       "\n",
       "\n"
      ],
      "text/plain": [
       "  State        Participation.Rate Critical.Reading Math Writing Combined\n",
       "1 North Dakota 2.3                612              620  584     1816    \n",
       "2 Illinois     4.6                599              616  587     1802    \n",
       "3 Iowa         3.1                605              611  578     1794    \n",
       "4 South Dakota 2.9                604              609  579     1792    \n",
       "5 Minnesota    5.9                598              610  578     1786    \n",
       "6 Michigan     3.8                593              610  581     1784    "
      ]
     },
     "metadata": {},
     "output_type": "display_data"
    }
   ],
   "source": [
    "# example: Load csv from URL\n",
    "sat <- read.csv('http://data8.org/textbook/notebooks/sat2014.csv')\n",
    "head(sat)"
   ]
  },
  {
   "cell_type": "code",
   "execution_count": 41,
   "metadata": {},
   "outputs": [
    {
     "data": {
      "text/plain": [
       "       X           Birth.Weight   Gestational.Days  Maternal.Age  \n",
       " Min.   :   1.0   Min.   : 55.0   Min.   :148.0    Min.   :15.00  \n",
       " 1st Qu.: 294.2   1st Qu.:108.0   1st Qu.:272.0    1st Qu.:23.00  \n",
       " Median : 587.5   Median :120.0   Median :280.0    Median :26.00  \n",
       " Mean   : 587.5   Mean   :119.5   Mean   :279.1    Mean   :27.23  \n",
       " 3rd Qu.: 880.8   3rd Qu.:131.0   3rd Qu.:288.0    3rd Qu.:31.00  \n",
       " Max.   :1174.0   Max.   :176.0   Max.   :353.0    Max.   :45.00  \n",
       " Maternal.Height Maternal.Pregnancy.Weight Maternal.Smoker\n",
       " Min.   :53.00   Min.   : 87.0             Mode :logical  \n",
       " 1st Qu.:62.00   1st Qu.:114.2             FALSE:715      \n",
       " Median :64.00   Median :125.0             TRUE :459      \n",
       " Mean   :64.05   Mean   :128.5                            \n",
       " 3rd Qu.:66.00   3rd Qu.:139.0                            \n",
       " Max.   :72.00   Max.   :250.0                            "
      ]
     },
     "metadata": {},
     "output_type": "display_data"
    },
    {
     "data": {
      "text/html": [
       "51"
      ],
      "text/latex": [
       "51"
      ],
      "text/markdown": [
       "51"
      ],
      "text/plain": [
       "[1] 51"
      ]
     },
     "metadata": {},
     "output_type": "display_data"
    },
    {
     "data": {
      "text/html": [
       "<ol class=list-inline>\n",
       "\t<li>51</li>\n",
       "\t<li>6</li>\n",
       "</ol>\n"
      ],
      "text/latex": [
       "\\begin{enumerate*}\n",
       "\\item 51\n",
       "\\item 6\n",
       "\\end{enumerate*}\n"
      ],
      "text/markdown": [
       "1. 51\n",
       "2. 6\n",
       "\n",
       "\n"
      ],
      "text/plain": [
       "[1] 51  6"
      ]
     },
     "metadata": {},
     "output_type": "display_data"
    },
    {
     "data": {
      "text/html": [
       "<ol class=list-inline>\n",
       "\t<li>'State'</li>\n",
       "\t<li>'Participation.Rate'</li>\n",
       "\t<li>'Critical.Reading'</li>\n",
       "\t<li>'Math'</li>\n",
       "\t<li>'Writing'</li>\n",
       "\t<li>'Combined'</li>\n",
       "</ol>\n"
      ],
      "text/latex": [
       "\\begin{enumerate*}\n",
       "\\item 'State'\n",
       "\\item 'Participation.Rate'\n",
       "\\item 'Critical.Reading'\n",
       "\\item 'Math'\n",
       "\\item 'Writing'\n",
       "\\item 'Combined'\n",
       "\\end{enumerate*}\n"
      ],
      "text/markdown": [
       "1. 'State'\n",
       "2. 'Participation.Rate'\n",
       "3. 'Critical.Reading'\n",
       "4. 'Math'\n",
       "5. 'Writing'\n",
       "6. 'Combined'\n",
       "\n",
       "\n"
      ],
      "text/plain": [
       "[1] \"State\"              \"Participation.Rate\" \"Critical.Reading\"  \n",
       "[4] \"Math\"               \"Writing\"            \"Combined\"          "
      ]
     },
     "metadata": {},
     "output_type": "display_data"
    }
   ],
   "source": [
    "# view information about dataframe\n",
    "summary(baby) # view data summary\n",
    "nrow(sat) # display no. of rows\n",
    "dim(sat) # view dimensions (rows, cols)\n",
    "colnames(sat) # view column names"
   ]
  },
  {
   "cell_type": "markdown",
   "metadata": {},
   "source": [
    "### 2.2 Accessing values in dataframe"
   ]
  },
  {
   "cell_type": "markdown",
   "metadata": {},
   "source": [
    "In Python, we can use `column` to access values in a particular column as follows:\n",
    "```python\n",
    "In [10]: t.column('letter')\n",
    "Out[10]: \n",
    "array(['a', 'b', 'c', 'z'], \n",
    "      dtype='<U1')\n",
    "```\n",
    "\n",
    "   In R, to access values in a particular column, we can use the `$` sign or use the following syntax: `df[, colname]`"
   ]
  },
  {
   "cell_type": "code",
   "execution_count": 50,
   "metadata": {},
   "outputs": [
    {
     "data": {
      "text/html": [
       "<ol class=list-inline>\n",
       "\t<li>'a'</li>\n",
       "\t<li>'b'</li>\n",
       "\t<li>'c'</li>\n",
       "\t<li>'z'</li>\n",
       "</ol>\n"
      ],
      "text/latex": [
       "\\begin{enumerate*}\n",
       "\\item 'a'\n",
       "\\item 'b'\n",
       "\\item 'c'\n",
       "\\item 'z'\n",
       "\\end{enumerate*}\n"
      ],
      "text/markdown": [
       "1. 'a'\n",
       "2. 'b'\n",
       "3. 'c'\n",
       "4. 'z'\n",
       "\n",
       "\n"
      ],
      "text/plain": [
       "[1] \"a\" \"b\" \"c\" \"z\""
      ]
     },
     "metadata": {},
     "output_type": "display_data"
    },
    {
     "data": {
      "text/html": [
       "<ol class=list-inline>\n",
       "\t<li>'a'</li>\n",
       "\t<li>'b'</li>\n",
       "\t<li>'c'</li>\n",
       "\t<li>'z'</li>\n",
       "</ol>\n"
      ],
      "text/latex": [
       "\\begin{enumerate*}\n",
       "\\item 'a'\n",
       "\\item 'b'\n",
       "\\item 'c'\n",
       "\\item 'z'\n",
       "\\end{enumerate*}\n"
      ],
      "text/markdown": [
       "1. 'a'\n",
       "2. 'b'\n",
       "3. 'c'\n",
       "4. 'z'\n",
       "\n",
       "\n"
      ],
      "text/plain": [
       "[1] \"a\" \"b\" \"c\" \"z\""
      ]
     },
     "metadata": {},
     "output_type": "display_data"
    }
   ],
   "source": [
    "# accessing column values\n",
    "t$letter\n",
    "t[, 'letter'] # Can also use t[, 1] to access column at first index"
   ]
  },
  {
   "cell_type": "markdown",
   "metadata": {},
   "source": [
    "In Python, we can use `row()` to access a row:\n",
    "```python\n",
    "In [15]: t.rows[0]\n",
    "Out[15]: Row(points=1, letter='a', count=9)\n",
    "```\n",
    "\n",
    "In R, we can use the following syntax to access row data: `df[rowname, ]`"
   ]
  },
  {
   "cell_type": "code",
   "execution_count": 55,
   "metadata": {},
   "outputs": [
    {
     "data": {
      "text/html": [
       "<table>\n",
       "<thead><tr><th scope=col>letter</th><th scope=col>count</th><th scope=col>points</th><th scope=col>vowel</th><th scope=col>twice_count</th><th scope=col>double</th></tr></thead>\n",
       "<tbody>\n",
       "\t<tr><td>a  </td><td>9  </td><td>1  </td><td>yes</td><td>18 </td><td>18 </td></tr>\n",
       "</tbody>\n",
       "</table>\n"
      ],
      "text/latex": [
       "\\begin{tabular}{r|llllll}\n",
       " letter & count & points & vowel & twice\\_count & double\\\\\n",
       "\\hline\n",
       "\t a   & 9   & 1   & yes & 18  & 18 \\\\\n",
       "\\end{tabular}\n"
      ],
      "text/markdown": [
       "\n",
       "letter | count | points | vowel | twice_count | double | \n",
       "|---|\n",
       "| a   | 9   | 1   | yes | 18  | 18  | \n",
       "\n",
       "\n"
      ],
      "text/plain": [
       "  letter count points vowel twice_count double\n",
       "1 a      9     1      yes   18          18    "
      ]
     },
     "metadata": {},
     "output_type": "display_data"
    }
   ],
   "source": [
    "# example: Access first row of dataframe\n",
    "t[1, ]"
   ]
  },
  {
   "cell_type": "markdown",
   "metadata": {},
   "source": [
    "We can also access a specific value in the dataframe by specifiying the row and column as follows:"
   ]
  },
  {
   "cell_type": "code",
   "execution_count": 57,
   "metadata": {},
   "outputs": [
    {
     "data": {
      "text/html": [
       "'a'"
      ],
      "text/latex": [
       "'a'"
      ],
      "text/markdown": [
       "'a'"
      ],
      "text/plain": [
       "[1] \"a\""
      ]
     },
     "metadata": {},
     "output_type": "display_data"
    },
    {
     "data": {
      "text/html": [
       "<ol class=list-inline>\n",
       "\t<li>9</li>\n",
       "\t<li>3</li>\n",
       "\t<li>3</li>\n",
       "</ol>\n"
      ],
      "text/latex": [
       "\\begin{enumerate*}\n",
       "\\item 9\n",
       "\\item 3\n",
       "\\item 3\n",
       "\\end{enumerate*}\n"
      ],
      "text/markdown": [
       "1. 9\n",
       "2. 3\n",
       "3. 3\n",
       "\n",
       "\n"
      ],
      "text/plain": [
       "[1] 9 3 3"
      ]
     },
     "metadata": {},
     "output_type": "display_data"
    }
   ],
   "source": [
    "# extracting one value\n",
    "t[1, 'letter']\n",
    "# slicing the dataframe\n",
    "t[1:3, 'count']"
   ]
  },
  {
   "cell_type": "markdown",
   "metadata": {},
   "source": [
    "### 2.3 Manipulating data"
   ]
  },
  {
   "cell_type": "markdown",
   "metadata": {},
   "source": [
    "Adding a new column in `datascience` is done by the `with_columns()` function as follows:\n",
    "```python\n",
    "In [23]: t.with_column('vowel', ['yes', 'no', 'no', 'no'])\n",
    "Out[23]: \n",
    "points | letter | count | vowel\n",
    "1      | a      | 9     | yes\n",
    "2      | b      | 3     | no\n",
    "2      | c      | 3     | no\n",
    "10     | z      | 1     | no\n",
    "```\n",
    "In R, we can use `data$newcolumn<-datavector` to add a new column to an existing dataframe. "
   ]
  },
  {
   "cell_type": "code",
   "execution_count": 52,
   "metadata": {},
   "outputs": [
    {
     "data": {
      "text/html": [
       "<table>\n",
       "<thead><tr><th scope=col>letter</th><th scope=col>count</th><th scope=col>points</th><th scope=col>vowel</th></tr></thead>\n",
       "<tbody>\n",
       "\t<tr><td>a  </td><td>9  </td><td> 1 </td><td>yes</td></tr>\n",
       "\t<tr><td>b  </td><td>3  </td><td> 2 </td><td>no </td></tr>\n",
       "\t<tr><td>c  </td><td>3  </td><td> 2 </td><td>no </td></tr>\n",
       "\t<tr><td>z  </td><td>1  </td><td>10 </td><td>no </td></tr>\n",
       "</tbody>\n",
       "</table>\n"
      ],
      "text/latex": [
       "\\begin{tabular}{r|llll}\n",
       " letter & count & points & vowel\\\\\n",
       "\\hline\n",
       "\t a   & 9   &  1  & yes\\\\\n",
       "\t b   & 3   &  2  & no \\\\\n",
       "\t c   & 3   &  2  & no \\\\\n",
       "\t z   & 1   & 10  & no \\\\\n",
       "\\end{tabular}\n"
      ],
      "text/markdown": [
       "\n",
       "letter | count | points | vowel | \n",
       "|---|---|---|---|\n",
       "| a   | 9   |  1  | yes | \n",
       "| b   | 3   |  2  | no  | \n",
       "| c   | 3   |  2  | no  | \n",
       "| z   | 1   | 10  | no  | \n",
       "\n",
       "\n"
      ],
      "text/plain": [
       "  letter count points vowel\n",
       "1 a      9      1     yes  \n",
       "2 b      3      2     no   \n",
       "3 c      3      2     no   \n",
       "4 z      1     10     no   "
      ]
     },
     "metadata": {},
     "output_type": "display_data"
    }
   ],
   "source": [
    "# example: Adding a new column\n",
    "t$vowel <- c('yes', 'no', 'no', 'no')\n",
    "t"
   ]
  },
  {
   "cell_type": "markdown",
   "metadata": {},
   "source": [
    "We can also add an existing column to the dataframe, which might be manipulated and added as a new column."
   ]
  },
  {
   "cell_type": "code",
   "execution_count": 54,
   "metadata": {},
   "outputs": [
    {
     "data": {
      "text/html": [
       "<table>\n",
       "<thead><tr><th scope=col>letter</th><th scope=col>count</th><th scope=col>points</th><th scope=col>vowel</th><th scope=col>twice_count</th><th scope=col>double</th></tr></thead>\n",
       "<tbody>\n",
       "\t<tr><td>a  </td><td>9  </td><td> 1 </td><td>yes</td><td>18 </td><td>18 </td></tr>\n",
       "\t<tr><td>b  </td><td>3  </td><td> 2 </td><td>no </td><td> 6 </td><td> 6 </td></tr>\n",
       "\t<tr><td>c  </td><td>3  </td><td> 2 </td><td>no </td><td> 6 </td><td> 6 </td></tr>\n",
       "\t<tr><td>z  </td><td>1  </td><td>10 </td><td>no </td><td> 2 </td><td> 2 </td></tr>\n",
       "</tbody>\n",
       "</table>\n"
      ],
      "text/latex": [
       "\\begin{tabular}{r|llllll}\n",
       " letter & count & points & vowel & twice\\_count & double\\\\\n",
       "\\hline\n",
       "\t a   & 9   &  1  & yes & 18  & 18 \\\\\n",
       "\t b   & 3   &  2  & no  &  6  &  6 \\\\\n",
       "\t c   & 3   &  2  & no  &  6  &  6 \\\\\n",
       "\t z   & 1   & 10  & no  &  2  &  2 \\\\\n",
       "\\end{tabular}\n"
      ],
      "text/markdown": [
       "\n",
       "letter | count | points | vowel | twice_count | double | \n",
       "|---|---|---|---|\n",
       "| a   | 9   |  1  | yes | 18  | 18  | \n",
       "| b   | 3   |  2  | no  |  6  |  6  | \n",
       "| c   | 3   |  2  | no  |  6  |  6  | \n",
       "| z   | 1   | 10  | no  |  2  |  2  | \n",
       "\n",
       "\n"
      ],
      "text/plain": [
       "  letter count points vowel twice_count double\n",
       "1 a      9      1     yes   18          18    \n",
       "2 b      3      2     no     6           6    \n",
       "3 c      3      2     no     6           6    \n",
       "4 z      1     10     no     2           2    "
      ]
     },
     "metadata": {},
     "output_type": "display_data"
    }
   ],
   "source": [
    "# Example: Adding twice the count to the dataframe\n",
    "t$double <- t$count * 2\n",
    "t"
   ]
  },
  {
   "cell_type": "code",
   "execution_count": null,
   "metadata": {},
   "outputs": [],
   "source": []
  }
 ],
 "metadata": {
  "kernelspec": {
   "display_name": "R",
   "language": "R",
   "name": "ir"
  },
  "language_info": {
   "codemirror_mode": "r",
   "file_extension": ".r",
   "mimetype": "text/x-r-source",
   "name": "R",
   "pygments_lexer": "r",
   "version": "3.4.4"
  }
 },
 "nbformat": 4,
 "nbformat_minor": 2
}
